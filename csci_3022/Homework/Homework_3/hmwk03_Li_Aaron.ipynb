{
 "cells": [
  {
   "cell_type": "markdown",
   "metadata": {},
   "source": [
    "### <a/ id='top'></a>\n",
    "# Homework 3: Random Variables, and the Central Limit Theorem\n",
    "***\n",
    "\n",
    "**Name**: Aaron Li\n",
    "\n",
    "***\n",
    "\n",
    "This assignment is due on Canvas by **5 PM on Monday March 18**. Your solutions to theoretical questions should be done in Markdown/MathJax directly below the associated question.  Your solutions to computational questions should include any specified Python code and results as well as written commentary on your conclusions.  Remember that you are encouraged to discuss the problems with your instructors and classmates, but **you must write all code and solutions on your own**. \n",
    "\n",
    "**NOTES**: \n",
    "\n",
    "- Any relevant data sets should be available under the **Data** module on Canvas, as well as in the zipped folder in which you obtained this assignment. \n",
    "- Do **NOT** load or use any Python packages that are not available in Anaconda 3.6. \n",
    "- Because you can technically evaluate notebook cells in a non-linear order, it's a good idea to do Kernel $\\rightarrow$ Restart & Run All as a check before submitting your solutions.  That way if we need to run your code you will know that it will work as expected. \n",
    "- It is **bad form** to make your reader interpret numerical output from your code.  If a question asks you to compute some value from the data you should show your code output **AND** write a summary of the results in Markdown directly below your code. \n",
    "- You **MUST** leave all of your notebook cells **evaluated** so the graders do not need to re-evaluate them. For 100+ students, this extra time adds up, and makes the graders' lives unnecessarily more difficult.\n",
    "- This probably goes without saying, but... For any question that asks you to calculate something, you **must show all work and justify your answers to receive credit**. Sparse or nonexistent work will receive sparse or nonexistent credit. \n",
    "- Submit only this Jupyter notebook to Canvas.  Do not compress it using tar, rar, zip, etc. \n",
    "\n",
    "---\n",
    "**Shortcuts:**  [Problem 1](#p1) | [Problem 2](#p2) | [Problem 3](#p3) | [Problem 4](#p4) \n",
    "\n",
    "---"
   ]
  },
  {
   "cell_type": "code",
   "execution_count": 1,
   "metadata": {
    "collapsed": true,
    "scrolled": true
   },
   "outputs": [],
   "source": [
    "import pandas as pd\n",
    "import numpy as np\n",
    "import scipy.stats as stats\n",
    "import math\n",
    "from scipy.special import binom\n",
    "import matplotlib.pylab as plt\n",
    "%matplotlib inline"
   ]
  },
  {
   "cell_type": "markdown",
   "metadata": {},
   "source": [
    "<br>\n",
    "\n",
    "---\n",
    "<a/ id='p1'></a>\n",
    "[Back to top](#top)\n",
    "\n",
    "<img src=\"https://media.daysoftheyear.com/20171223112636/hedgehog-day1.jpg\" style=\"width: 500px;\"/>\n",
    "\n",
    "\n",
    "### [25 points] Problem 1\n",
    "\n",
    "Suppose you are modeling the probability of observing various levels of cuteness in hedgehogs you encounter.  Let $X$ be a random variable representing the observed cuteness, which is *obviously* nonnegative and has units of deci*awws*. You decide to use the following pdf for $X$:\n",
    "\n",
    "$$\n",
    "f(x) = \\begin{cases}\n",
    "         c \\ x \\ e^{\\left(-\\frac{x^2}{4}\\right)} & 0 \\leq x < \\infty \\\\\n",
    "         0                           & \\text{otherwise}\n",
    "       \\end{cases}\n",
    "$$\n",
    "where $c$ is some normalizing constant.\n",
    "\n",
    "**Part A**: Determine the value of $c$ such that $f(x)$ is a valid probability density function. Then, make a plot of the probability density function for hedgehog cuteness, $f(x)$. Be sure to label your axes!"
   ]
  },
  {
   "cell_type": "markdown",
   "metadata": {},
   "source": [
    "$$\\int_{0}^{\\infty} c*e^{\\frac{-x^2}{4}} dx= 2ce^u\\Big|_{-\\infty}^0=2c(1-0)=1=\\frac{c}{2}$$\n",
    "We set it equal to 1 because the sum of pdf must equal 1"
   ]
  },
  {
   "cell_type": "code",
   "execution_count": 2,
   "metadata": {
    "collapsed": true
   },
   "outputs": [
    {
     "data": {
      "image/png": "[encoded data removed]",
      "text/plain": [
       "<Figure size 432x288 with 1 Axes>"
      ]
     },
     "metadata": {
      "needs_background": "light"
     },
     "output_type": "display_data"
    }
   ],
   "source": [
    "x = np.linspace(0,6,num=100)\n",
    "y = (x/2)*(np.exp(-(x**2)/4))\n",
    "\n",
    "plt.figure()\n",
    "plt.plot(x, y)\n",
    "plt.xlabel('Observed cuteness in deciawws', fontsize=10)\n",
    "plt.ylabel('Probability of cuteness', fontsize=10)\n",
    "plt.title('PDF of Hedgehog Cutness')\n",
    "\n",
    "plt.show()"
   ]
  },
  {
   "cell_type": "markdown",
   "metadata": {},
   "source": [
    "**Part B**: Compute *by hand* the cumulative density (cdf) function $F(x)$ for $X$."
   ]
  },
  {
   "cell_type": "markdown",
   "metadata": {},
   "source": [
    "PDF=f(x) CDF=F(x) so CDF=$\\int_{-\\infty}^{0}\\frac{1}{2}*e^{\\frac{-x^2}{4}}+\\int_{0}^{x} \\frac{1}{2}*e^{\\frac{-x^2}{4}} dx= 0-2*\\frac{1}{2}e^u\\Big|_{0}^\\frac{-x^2}{4}=-(e^\\frac{-x^2}{4}-1)=1-e^\\frac{-x^2}{4}$"
   ]
  },
  {
   "cell_type": "markdown",
   "metadata": {},
   "source": [
    "**Part C:**  Use the cdf you derived in **Part B** to calculate the median ($\\tilde{x}$) cuteness of all hedgehogs."
   ]
  },
  {
   "cell_type": "markdown",
   "metadata": {},
   "source": [
    "F(x)=.5->$1-e^(\\frac{-x^2}{4})=.5 ->e^{\\frac{-x^2}{4}}=.5 -> ln(.5)=ln(e^{\\frac{-x^2}{4}})-> -4ln(.5)=x^2 ->x\\approx1.6651 $"
   ]
  },
  {
   "cell_type": "markdown",
   "metadata": {},
   "source": [
    "**Part D**: It is a well-known fact that any hedgehog whose cuteness exceeds 3 deciawws is **totes adorbz**. Use the cdf you computed in **Part B** to find the probability that any arbitrary hedgehog that you observe is totes adorbz."
   ]
  },
  {
   "cell_type": "markdown",
   "metadata": {},
   "source": [
    "The probability that hedgehog has 0 to 3 deciawws is CDF=F(3) $1-e^{\\frac{-9}{4}}\\approx .8946$ so to have greater than 3 deciawws we take the opposite which is $1-F(3)\\approx .1054$ so there is arround a $10.54\\%$ chance of a hedgehog being totes adorbz."
   ]
  },
  {
   "cell_type": "markdown",
   "metadata": {},
   "source": [
    "**Part E:** You have been painstakingly collecting data on hedgehogs all over town, and the cuteness is damn near overwhelming. Suppose you sample 5 hedgehogs, and the cuteness of any given hedgehog is independent of the cuteness of all other hedgehogs. What is the probability that more than half of them are totes adorbz? Keep at least 5 decimal places in your answer."
   ]
  },
  {
   "cell_type": "markdown",
   "metadata": {},
   "source": [
    "The probability of finding at least half the hedgehogs out of 5 would be the probability of 3,4, or 5 hedgehogs being totes adorbz. Notice that this is discrete because having say half a hedgehog would not be totes adorbz but very much totes sad ;_;. So then we have $\\binom{5}{3} .1054^3* .8946^2+ \\binom{5}{4} .1054^4* .8946^2+\\binom{5}{5} .1054^5\\approx 0.009936$ which is about a 1% probability."
   ]
  },
  {
   "cell_type": "markdown",
   "metadata": {},
   "source": [
    "<br>\n",
    "\n",
    "---\n",
    "<a/ id='p2'></a>\n",
    "[Back to top](#top)\n",
    "### [25 points] Problem 2 - Monte Carlo Estimation of Definite Integrals\n",
    "\n",
    "One really cool application of random variables is using them to approximate integrals/area under a curve.  This method of approximating integrals is used frequently in computational science to approximate really difficult integrals that we never want to do by hand.  In this exercise you'll figure out how we can do this in practice and test your method on a relatively simple integral. "
   ]
  },
  {
   "cell_type": "markdown",
   "metadata": {},
   "source": [
    "**Part A.**  Let $X$ be a random variable representing how delicious a pie you bake is, as measured by the **Deliciousness Index** (DI).  Suppose the probability density function for $X$ is described by the raised cosine probability density function:\n",
    "\n",
    "$$\n",
    "f(x) = \\begin{cases}\n",
    "         \\dfrac{1}{\\pi}\\left(\\cos{(x)} + 1\\right) & 0 \\leq x \\leq \\pi \\\\\n",
    "         0                           & \\text{otherwise}\n",
    "         \\end{cases}\n",
    "$$\n",
    "\n",
    "A Deliciousness Index of $\\pi$ is the most delicious pie you can ever hope to create, and a DI of $0$ is the most disgusting pie you have ever tasted.  \n",
    "\n",
    "Compute **by hand**, the integral of $f(x)$ for $0 \\leq x \\leq \\dfrac{\\pi}{2}$.  Write a sentence or two to interpret your result physically, in the context of this problem set-up."
   ]
  },
  {
   "cell_type": "markdown",
   "metadata": {},
   "source": [
    "$\\frac{1}{\\pi}\\int_{0}^{\\frac{\\pi}{2}}(cos(x)+1)dx=\\frac{1}{\\pi}(sin(x)+x)\\Big|_{0}^\\frac{\\pi}{2}=\\frac{1}{\\pi}+\\frac{1}{2}\\approx .8183$\n",
    "This means that when we bake a pie there is a 81.13% chance that a pie we bake is has a DI between 0 and $\\frac{\\pi}{2}$ deliciousness."
   ]
  },
  {
   "cell_type": "markdown",
   "metadata": {},
   "source": [
    "**Part B.** Suppose we sample a random variable $X$ from $U(0,\\frac{\\pi}{2})$ and another random variable $Y$ from $U(0,1)$ and think of them as $x$- and $y$-coordinates of a point in the box $[0,\\frac{\\pi}{2}] \\times [0,1]$.  If we compute the ratio of points that fall under the curve $f(x)$ to the total points sampled, what does this value estimate? "
   ]
  },
  {
   "cell_type": "markdown",
   "metadata": {},
   "source": [
    "This value estimate the amount of mass f(x) (probability) has when compared to the total mass which is the two uniform distributions in the box. Therefore, it compares the probability that our function mass is within the probability of the uniform distribution."
   ]
  },
  {
   "cell_type": "markdown",
   "metadata": {},
   "source": [
    "**Part C.** How could we modify the process outlined in **Part B** so that our estimator estimates the value of the desired integral?  If you need inspiration, check out the in-class notebook on Stochastic Simulation (#4), specifically, the exercise where we estimated $\\pi$!"
   ]
  },
  {
   "cell_type": "markdown",
   "metadata": {},
   "source": [
    "Using notebook 4 as reference, $$\\frac{\\int_{0}^{x}f(x)dx}{\\int_{0}^{x}dx}=\\frac{\\int_{0}^{x}f(x)dx}{x}=\\frac{n_c}{n} -> \\int_{0}^{x}f(x)dx=\\frac{x*n_c}{n}$$ where x is the uniform distribution area, n=total points sampled and $n_c$= points the fall under the curve f(x)."
   ]
  },
  {
   "cell_type": "markdown",
   "metadata": {},
   "source": [
    "**Part D.** Complete the function `integrate` below to compute an approximation to the definition integral $\\int_0^{\\text{ub}} f(x)dx$.  Your function should take as arguments:\n",
    "1. `num_samples` -- the number of points to sample,\n",
    "2. `ub` -- a number between $0$ and $\\pi$ that is the upper bound of the integral, and\n",
    "3. `isPlot` -- a Boolean flag for whether or not to display a plot of the results.\n",
    "\n",
    "Your function should return an approximation of the definite integral by sampling $X$ from $U(0,\\text{ub})$ and $Y$ from $U(0,1)$. For each random draw $(X,Y)$, define the random variable $Z$ that represents whether or not the sampled $Y$ value is less than $f(X)$ for the corresponding $X$ value.\n",
    "\n",
    "Your function should perform three tasks: \n",
    "\n",
    "1. return the estimate of the value of the integral,\n",
    "2. return the sample variance of the random variable $Z$ being simulated, using the np.var function, and\n",
    "3. if `isPlot` is True, plot the curve $f(x)$ as well as the location of the points $(X,Y)$, colored according to whether they fall above or below the curve. "
   ]
  },
  {
   "cell_type": "code",
   "execution_count": 3,
   "metadata": {
    "collapsed": true
   },
   "outputs": [],
   "source": [
    "# GIVEN CODE - Do not change the inputs/outputs or your code will fail unit tests and auto-grading!\n",
    "def integrate(num_samples, ub, isPlot):\n",
    "    total_points=num_samples; #total points is n\n",
    "    hits=[];\n",
    "    x_points=[];\n",
    "    y_points=[];\n",
    "    #hits is number of points that lie under the f(x) curve i.e n_c\n",
    "    for i in range(num_samples):\n",
    "        X=np.random.uniform(0,ub)\n",
    "        Y=np.random.uniform(0,1)\n",
    "        f_x=(1/(np.pi)*(np.cos(X)+1))\n",
    "        if(f_x>=Y):\n",
    "        #basically if small area/point is within the Y range constraint\n",
    "            hits.append(1)\n",
    "            x_points.append(X)\n",
    "            y_points.append(Y)\n",
    "        else:\n",
    "            hits.append(0)\n",
    "    total_hits=np.sum(hits)\n",
    "    estimate=(total_hits*ub)/total_points\n",
    "    #estimate is estimate of integral\n",
    "    sample_var=np.var(hits)\n",
    "    if(isPlot==True):\n",
    "        x_axis=np.linspace(0,ub)\n",
    "        curve=(1/(np.pi)*(np.cos(x_axis)+1))\n",
    "        plt.plot(x_axis, curve)\n",
    "        plt.scatter(x_points,y_points)\n",
    "        plt.xlabel('Delicious Index', fontsize=10)\n",
    "        plt.ylabel('Probability of how delicious pie is', fontsize=10)\n",
    "        plt.title('Real Curve vs 1000 point plotted')\n",
    "        \n",
    "    return estimate, sample_var"
   ]
  },
  {
   "cell_type": "markdown",
   "metadata": {},
   "source": [
    "**Part E.** Write your own small unit tests!\n",
    "\n",
    "First, what should your `integrate` function output if you plug in `ub=0`? Set that as `int_0_to_0` below.\n",
    "\n",
    "Second, what should your `integrate` function output if you plug in `ub=`$\\pi$? Set that as `int_0_to_pi` below.\n",
    "\n",
    "Then, you can execute the cell below to run two sanity checks. Write out **in math** (like, a definite integral) what each of these two tests is checking and **why** that is a reasonable sanity check.\n",
    "\n",
    "If these two assertions run without fail, then things seem to be working okay. Note that the upper endpoint test is stochastic, so if it fails, try running it a few times. If it fails a lot, then things are probably going wrong."
   ]
  },
  {
   "cell_type": "code",
   "execution_count": 4,
   "metadata": {
    "collapsed": true
   },
   "outputs": [],
   "source": [
    "int_0_to_0  = 0# fill this in!\n",
    "int_0_to_pi = 1# this one too!\n",
    "\n",
    "\n",
    "#---------------------------------------\n",
    "# DO NOT EDIT THIS CELL BELOW HERE\n",
    "#---------------------------------------\n",
    "assert integrate(1000, 0, False)[0]==int_0_to_0, \"Error: lower endpoint test failing\"\n",
    "assert math.isclose(integrate(10000, np.pi, False)[0],int_0_to_pi,abs_tol=0.03), \"Error: upper endpoint test failing\""
   ]
  },
  {
   "cell_type": "code",
   "execution_count": null,
   "metadata": {
    "collapsed": true
   },
   "outputs": [],
   "source": []
  },
  {
   "cell_type": "markdown",
   "metadata": {},
   "source": [
    "**Part F.** Run your simulation with `isPlot=True` and `ub=`$\\frac{\\pi}{2}$ for 1,000 samples so we can see your plot. Then, run your simulation (with `isPlot=False`) with at least 10,000 samples and estimate the value of the given integral. Be sure to leave your cells evaluated for the graders! Does your estimate agree with the exact value of the integral you computed in **Part A**? "
   ]
  },
  {
   "cell_type": "code",
   "execution_count": 5,
   "metadata": {},
   "outputs": [
    {
     "name": "stdout",
     "output_type": "stream",
     "text": [
      "The True Value I had was .8183 and the value calculated was 0.8056614360131024 and the error between them is 1.2638563986897666 % which is very small so I believe it does estimate my value well\n"
     ]
    },
    {
     "data": {
      "image/png": "[encoded data removed]",
      "text/plain": [
       "<Figure size 432x288 with 1 Axes>"
      ]
     },
     "metadata": {
      "needs_background": "light"
     },
     "output_type": "display_data"
    }
   ],
   "source": [
    "integrate(1000,(np.pi)/2,True)\n",
    "\n",
    "prob, std= integrate(10000,(np.pi)/2,False)\n",
    "print(\"The True Value I had was .8183 and the value calculated was\", prob,\"and the error between them is\",\n",
    "     abs((.8183-prob))*100,\"% which is very small so I believe it does estimate my value well\")"
   ]
  },
  {
   "cell_type": "markdown",
   "metadata": {},
   "source": [
    "<br>\n",
    "\n",
    "---\n",
    "<a/ id='p3'></a>\n",
    "[Back to top](#top)\n",
    "### [25 points] Problem 3 - Mmmm... Donuts...\n",
    "\n",
    "<img src=\"http://astrokentico.s3.amazonaws.com/rojakdaily/media/1nichoras/homer%20simpson%20krispy%20kreme/main.jpg?ext=.jpg\" style=\"width:300px;\"/>\n",
    "\n",
    "You bring many donuts (or _doughnuts_, if you're into that) to work to share with your coworkers at the Boulder Nuclear Power Planet. But due to the high levels of radiation there, they must be inspected for safety. In particular, if the mean level of radiation in a sample from your batch of donuts is above [200 mSv (millisievert)](#rad), then they are deemed unsafe and you must throw the whole batch away.\n",
    "\n",
    "You know that historically donuts at the power plant have, on average, 190 mSv of radiation, with a standard deviation of 40 mSv. To test the donut radiation levels, you take the donut receipt and pick every fifth donut off it, and sample the radiation levels of those donuts. You end up sampling the radiation levels of 36 donuts out of the batch."
   ]
  },
  {
   "cell_type": "markdown",
   "metadata": {},
   "source": [
    "**Part A.** What is the probability that a donut batch is deemed unsafe?  You should at the very least set up and justify your calculation by hand (in Markdown/Mathjax), before executing any calculations in Python."
   ]
  },
  {
   "cell_type": "markdown",
   "metadata": {},
   "source": [
    "$$P(X\\leq 200) X=200 -> Z=\\frac{200-190}{\\sqrt{\\frac{40^2}{36}}}=\\frac{10*6}{40}=1.5$$\n",
    "Now we plug in Z value to stats.norm.cdf(Z)"
   ]
  },
  {
   "cell_type": "code",
   "execution_count": 6,
   "metadata": {},
   "outputs": [
    {
     "name": "stdout",
     "output_type": "stream",
     "text": [
      "There is a 93.3192798731142 % chance that the donuts are safe and a 6.6807201268858085 % that it is unsafe\n"
     ]
    }
   ],
   "source": [
    "prob=stats.norm.cdf(1.5)\n",
    "print(\"There is a\", prob*100, \"% chance that the donuts are safe\",\"and a\", (1-prob)*100, \"% that it is unsafe\")"
   ]
  },
  {
   "cell_type": "markdown",
   "metadata": {},
   "source": [
    "**Part B.** You really do not want to throw away donuts that frequently, so you propose to store the donuts in a lead-lined donut box. But lead also is not very good for your health, so you are motivated to use the least amount of lead possible. What is the minimum mean amount of radiation $\\mu$ for our donuts to have such that the probability that we will throw donuts out due to safety concerns is at most 0.01?\n",
    "\n",
    "Calculate this **by hand**, using Python only to perform arithmetic operations and compute critical values of a standard normal random variable."
   ]
  },
  {
   "cell_type": "code",
   "execution_count": 7,
   "metadata": {},
   "outputs": [
    {
     "name": "stdout",
     "output_type": "stream",
     "text": [
      "2.3263478740408408\n"
     ]
    }
   ],
   "source": [
    "Z=stats.norm.ppf(.99)\n",
    "print(Z)\n",
    "#We want to be .99 percent confident that the donuts are safe"
   ]
  },
  {
   "cell_type": "markdown",
   "metadata": {},
   "source": [
    "$Z=\\frac{x-\\mu}{\\frac{\\sigma}{\\sqrt{n}}}-> \\mu=x-\\frac{\\sigma*Z}{\\sqrt{n}}$ where $Z=2.32634787404,X=200, \\sigma=40$ We then get a $\\mu=184.4910142$ "
   ]
  },
  {
   "cell_type": "markdown",
   "metadata": {},
   "source": [
    "**Part C.**  Your supervisor at the plant decides that serving up donuts in a lead-lined box is a bad idea. Fair enough.\n",
    "\n",
    "But she is still imposing the requirement that the probability of a batch of donuts being rejected must be less than 0.01. Suppose the mean and standard deviation are at their original values of $\\mu = 190$ mSv and $\\sigma = 40$ mSv. What is the minimum sample size to satisfy this requirement?\n",
    "\n",
    "Calculate this **by hand**, using Python only to perform arithmetic operations and compute critical values of a standard normal random variable."
   ]
  },
  {
   "cell_type": "markdown",
   "metadata": {},
   "source": [
    "We want to find n using the equation $Z=\\frac{(X-\\mu)*\\sqrt{n}}{\\sigma}->n=(\\frac{\\sigma*Z}{x-u})^2$ where $\\mu=190, \\sigma=40, Z=2.32634787404$"
   ]
  },
  {
   "cell_type": "code",
   "execution_count": 8,
   "metadata": {},
   "outputs": [
    {
     "name": "stdout",
     "output_type": "stream",
     "text": [
      "The sample size must be at least 87.0 donuts to have a to meet saftey requirement of .01\n"
     ]
    }
   ],
   "source": [
    "Z=2.32634787404\n",
    "mu=190\n",
    "X=200\n",
    "sigma=40\n",
    "n=((sigma*Z)/(X-mu))**2\n",
    "#n is equal to around 86.5\n",
    "print(\"The sample size must be at least\",np.ceil(n),\"donuts to have a to meet saftey requirement of .01\" )"
   ]
  },
  {
   "cell_type": "markdown",
   "metadata": {},
   "source": [
    "**Part D.** Can you think of any potential issues with using a normal distribution to model the radiation content of our donuts?"
   ]
  },
  {
   "cell_type": "markdown",
   "metadata": {},
   "source": [
    "The issues of using a normal distibution is by central limit theorem the more samples we take the more confident we are in are values however, we already know the true mean and standard deviation and by just increasing the sample size alone we are able to increase the saftey requirement. This is an issue for a radiation content of our donuts because when dealing with something as dangerous as radiation poisoning it may be more reasonable to believe that all donuts have the same likeliness of being poisonous (i.e uniform) rather than assume normal since the saftey values can be artifically inflated with a larger sample size. "
   ]
  },
  {
   "cell_type": "markdown",
   "metadata": {},
   "source": [
    "<br>\n",
    "\n",
    "---\n",
    "<a/ id='p4'></a>\n",
    "[Back to top](#top)\n",
    "### [25 points] Problem 4 - Here come the hedgehogs\n",
    "\n",
    "**Part A:** You are conducting a study of the cuteness of hedgehogs, because you want to verify the calculations from Problem 1. You set up a data collection center, and record in your data set the time when each hedgehog arrives at your site. The data are found in `arrivals.csv`.\n",
    "\n",
    "Load these data into a Pandas DataFrame, compute the time span between successive hedgehog arrivals, and plot a density histogram of those inter-hedgehog arrival times.\n",
    "\n",
    "To best capture the majesty of the mighty hedgehog, your histogram boxes should be `sienna` with `khaki` edges. Your histogram should also have 50 bins, because hedgehogs love histograms with 50 bins. Hedgehogs are illiterate, so they don't really care about axis labels, but your instructor does. So, be sure to label your axes too."
   ]
  },
  {
   "cell_type": "code",
   "execution_count": 9,
   "metadata": {
    "collapsed": true
   },
   "outputs": [
    {
     "data": {
      "image/png": "[encoded data removed]",
      "text/plain": [
       "<Figure size 432x288 with 1 Axes>"
      ]
     },
     "metadata": {
      "needs_background": "light"
     },
     "output_type": "display_data"
    }
   ],
   "source": [
    "df = pd.read_csv(\"arrivals.csv\")\n",
    "hogs=df['hedgehogs']\n",
    "\n",
    "hog_hist=df.hist(column =\"hedgehogs\", bins=50, color=\"sienna\", edgecolor=\"khaki\")\n",
    "\n",
    "for i in hog_hist.flatten():\n",
    "    i.set_xlabel(\"Number of Hedgehogs per arrival time\")\n",
    "    i.set_ylabel(\"Arrival Time\")"
   ]
  },
  {
   "cell_type": "markdown",
   "metadata": {},
   "source": [
    "**Part B:** Compute a 99% confidence interval (to 4 decimal places) for the mean of the inter-hedgehog arrival time. If you use any theorem(s) in your calculation, be sure to state what they are and why the theorem(s) can be applied. "
   ]
  },
  {
   "cell_type": "markdown",
   "metadata": {},
   "source": [
    "Since we don't know the true mean and sigma, we will estimate it using the central limit theorem."
   ]
  },
  {
   "cell_type": "code",
   "execution_count": 10,
   "metadata": {},
   "outputs": [
    {
     "name": "stdout",
     "output_type": "stream",
     "text": [
      "The confidence interval is [676.4868825212743, 933.1118107699201 ]\n"
     ]
    }
   ],
   "source": [
    "hog_mean=np.mean(hogs)\n",
    "#fig, ax = plt.subplots(nrows=1, ncols=1, figsize=(12,6))\n",
    "n=len(hogs)\n",
    "z = stats.norm.ppf(1-.01/2)\n",
    "s=np.std(hogs,ddof=1)\n",
    "CImin = hog_mean-z*s/np.sqrt(n)\n",
    "CImax = hog_mean+z*s/np.sqrt(n) \n",
    "#ax.plot([0, 0], [CImin, CImax]);\n",
    "print('The confidence interval is [{},'.format(CImin),CImax,\"]\")"
   ]
  },
  {
   "cell_type": "markdown",
   "metadata": {},
   "source": [
    "**Part C:** Speculate: what would happen if you hadn't included all the data in your confidence interval calculation above? Specifically, if you only observed the first 30 of your data points and used those to compute a confidence interval, would it be wider or less wide? Why? You may assume that the number of data points is the *only* thing changing in this hypothetical situation."
   ]
  },
  {
   "cell_type": "markdown",
   "metadata": {},
   "source": [
    "The range would be wider because if we have less points then it is harder to ascertain what the true mean is because as central limit theorem states the more points you have the closer you approximate the true mean. Therefore, with less points we would need to larger confidence interval to catch the true mean 90% of the time."
   ]
  },
  {
   "cell_type": "markdown",
   "metadata": {},
   "source": [
    "**Part D:** Write a function to confirm what you have written above. For each value of $n$ between $30$ and the total number of data points, compute a 90% CI using the first $n$ inter-arrival times. Plot the CIs (vertical axis) against $n$ (horizontal axis). Plot the means as black X symbols, with vertical \"errorbars\" for the CIs colored `sienna`. See Matplotlib's [errorbar](https://matplotlib.org/api/_as_gen/matplotlib.pyplot.errorbar.html) plot type. Be sure to label your axes!"
   ]
  },
  {
   "cell_type": "code",
   "execution_count": 11,
   "metadata": {
    "collapsed": true
   },
   "outputs": [
    {
     "data": {
      "image/png": "[encoded data removed]",
      "text/plain": [
       "<Figure size 864x432 with 1 Axes>"
      ]
     },
     "metadata": {
      "needs_background": "light"
     },
     "output_type": "display_data"
    }
   ],
   "source": [
    "def CI():\n",
    "    sample=np.arange(30,100,1)\n",
    "    #take a all values from 30 to 100\n",
    "    z=stats.norm.ppf(1-.1/2)\n",
    "    #.1 because we need 90% confidence interval\n",
    "    fig, ax = plt.subplots(nrows=1, ncols=1, figsize=(12,6))\n",
    "    for n in sample:\n",
    "        hogs_sample=hogs.head(n)\n",
    "        sam_hog_mean=np.mean(hogs_sample)\n",
    "        sam_s=np.std(hogs,ddof=1)\n",
    "        CImin = hog_mean-z*s/np.sqrt(n)\n",
    "        CImax = hog_mean+z*s/np.sqrt(n)\n",
    "        y=np.array([[z*s/np.sqrt(n),z*s/np.sqrt(n)]])\n",
    "        ax.errorbar(n,sam_hog_mean,yerr=y,marker=\"X\", color=\"sienna\")\n",
    "    plt.xlabel('Amount of Samples Taken (n)', fontsize=10)\n",
    "    plt.ylabel('Time of arrival', fontsize=10)\n",
    "    plt.title('Change in confidence interval with different sample sizes')\n",
    "CI()\n",
    "        \n",
    "    "
   ]
  },
  {
   "cell_type": "markdown",
   "metadata": {},
   "source": [
    "**Part E:** Reflect on how your confidence intervals change as the sample sizes $n$ increase from 30 to about 100. Does this make sense? Write a few sentences to reflect on the behavior that you see in your plot from Part D, and why it does/does not make sense."
   ]
  },
  {
   "cell_type": "markdown",
   "metadata": {},
   "source": [
    "What I see in my plot does make sense. First, I stated that with a lower sample size you get a larger confidence interval, and as we can see that turned out to be the case since, by the central limit theorem, as you increase the sample size the closer you being to approximate the true mean. The x bar we calculated also began to increase this is due to the fact that as you increase the data size more data allows for a better observation of the true arrival time, so for example 30 data points provides a x bar of around 200 when this is clearly to small as you being to look at more hedgehogs and by sample size 100 we get an x bar of around 775 which is a better representation of the true mean since again by central limit theorem an increase in sample size gives better values. This is represented by the almost linear increase of x bar as more data points are taken."
   ]
  },
  {
   "cell_type": "markdown",
   "metadata": {},
   "source": [
    "<br>\n",
    "\n",
    "---\n",
    "### Notes\n",
    "\n",
    "<a/ id='rad'></a> 200 mSv is somewhere below Chernobyl levels of exposure, but more radiation than you would want with regard to potentially increasing your risk of cancer. It's probably too high, but it is a nice round number! More information [here](https://www.theguardian.com/news/datablog/2011/mar/15/radiation-exposure-levels-guide).\n",
    "\n",
    "[Back to Problem 3](#p3)"
   ]
  },
  {
   "cell_type": "code",
   "execution_count": null,
   "metadata": {
    "collapsed": true
   },
   "outputs": [],
   "source": []
  }
 ],
 "metadata": {
  "kernelspec": {
   "display_name": "Python 3",
   "language": "python",
   "name": "python3"
  },
  "language_info": {
   "codemirror_mode": {
    "name": "ipython",
    "version": 3
   },
   "file_extension": ".py",
   "mimetype": "text/x-python",
   "name": "python",
   "nbconvert_exporter": "python",
   "pygments_lexer": "ipython3",
   "version": "3.6.7"
  }
 },
 "nbformat": 4,
 "nbformat_minor": 2
}
