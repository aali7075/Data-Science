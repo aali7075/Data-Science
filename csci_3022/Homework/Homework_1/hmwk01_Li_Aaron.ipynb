{
 "cells": [
  {
   "cell_type": "markdown",
   "metadata": {},
   "source": [
    "<a id='top'></a>\n",
    "\n",
    "# Homework 1: Data Cleaning and Exploratory Data Analysis \n",
    "***\n",
    "\n",
    "**Name**: Aaron Li\n",
    "\n",
    "***\n",
    "\n",
    "This assignment is due on Canvas by **5 PM on Friday February 1**. Your solutions to theoretical questions should be done in Markdown directly below the associated question.  Your solutions to computational questions should include any specified Python code and results as well as written commentary on your conclusions.  Remember that you are encouraged to discuss the problems with your classmates, but **you must write all code and solutions on your own**.\n",
    "\n",
    "**NOTES**: \n",
    "\n",
    "- Any relevant data sets should be available under the **Data** module on Canvas. To make life easier on the graders if they need to run your code, do not change the relative path names here. Instead, move the files around on your computer.\n",
    "- If you're not familiar with typesetting math directly into Markdown then by all means, do your work on paper first and then typeset it later.  Remember that there is a [reference guide](https://math.meta.stackexchange.com/questions/5020/mathjax-basic-tutorial-and-quick-reference) linked on Canvas on writing math in Markdown. **All** of your written commentary, justifications and mathematical work should be in Markdown.\n",
    "- Because you can technically evaluate notebook cells is a non-linear order, it's a good idea to do Kernel $\\rightarrow$ Restart & Run All as a check before submitting your solutions.  That way if we need to run your code you will know that it will work as expected. \n",
    "- It is **bad form** to make your reader interpret numerical output from your code.  If a question asks you to compute some value from the data you should show your code output **AND** write a summary of the results in Markdown directly below your code. \n",
    "- This probably goes without saying, but... For any question that asks you to calculate something, you **must show all work and justify your answers to receive credit**. Sparse or nonexistent work will receive sparse or nonexistent credit. \n",
    "\n",
    "---\n",
    "**Shortcuts:**  [Problem 1](#p1) | [Problem 2](#p2) | [Problem 3](#p3) | [Problem 4](#p4) | [Problem 5](#p5)\n",
    "\n",
    "---"
   ]
  },
  {
   "cell_type": "code",
   "execution_count": 1,
   "metadata": {
    "collapsed": true
   },
   "outputs": [],
   "source": [
    "import math\n",
    "import pandas as pd\n",
    "import numpy as np\n",
    "import matplotlib.pylab as plt\n",
    "%matplotlib inline"
   ]
  },
  {
   "cell_type": "markdown",
   "metadata": {},
   "source": [
    "[Back to top](#top)\n",
    "\n",
    "<br>\n",
    "\n",
    "<a/ id='p1'></a>\n",
    "\n",
    "### (10 pts) Problem 1 \n",
    "***\n",
    "\n",
    "![hedgehog](https://www.irishexaminer.com/remote/media.central.ie/media/images/h/hedgehog17_large.jpg?width=648&s=ie-467290)\n",
    "\n",
    "Hedgehogs are undeniably one of the cutest creatures in all of the land, so the University of Colorado Boulder wants to switch its mascot to the hedgehog. Before making the switch, the CU officials need to know whether they will be able to find new hedgehog mascot handlers, similar to the current Ralphie handlers. You are called upon to perform an experiment to order to determine how fit CU Boulder students are for hedgehog-handling. There are too many students at CU for you to test all of their **Hedgehog-Handling Ability** (HHA), so from a roster of all students and their majors, you will randomly test the HHA of one-tenth of the majors from each department on campus. (Assume nobody is a double major, and assume that everybody has a major.) From this sample, you will estimate the mean HHA of all students on campus, and let the CU officials know whether or not CU students will be able to handle hedgehogs.\n",
    "\n",
    "Identify the following: \n",
    "\n",
    "- the population \n",
    "- the sample frame \n",
    "- the sample \n",
    "- the type of sample \n",
    "- the quantity of interest "
   ]
  },
  {
   "cell_type": "markdown",
   "metadata": {},
   "source": [
    "Population: All CU students.\n",
    "\n",
    "Sample Frame: The roster of all students and their majors.\n",
    "\n",
    "Sample: Every 10th student of a major for a department.\n",
    "\n",
    "Type of sample: This is a stratified sample because the sample is broken up into each department and then taken a sample of one-tenth of its majors in that department. Therefore, the amount chosen in each department is porportional to the amount majors in that department which is the definition of a stratified sample.\n",
    "\n",
    "\n",
    "Quantity of interest: The HHA score of the CU students."
   ]
  },
  {
   "cell_type": "markdown",
   "metadata": {},
   "source": [
    "[Back to top](#top)\n",
    "\n",
    "<br>\n",
    "\n",
    "<a/ id='p2'></a>\n",
    "\n",
    "### (20 pts) Problem 2 \n",
    "***\n",
    "\n",
    "A method to investigate the sensitivity of the sample mean and the sample median to extreme outliers and changes in the dataset is to replace one or more elements in a given dataset by a number $y$ and investigate the eﬀect when $y$ changes. To illustrate this, consider the dataset\n",
    "\n",
    "$$\n",
    "y \\quad \n",
    "5.4 \\quad\n",
    "5.0 \\quad\n",
    "6.5 \\quad\n",
    "7.7 \\quad\n",
    "6.0 \\quad\n",
    "1.9\n",
    "$$"
   ]
  },
  {
   "cell_type": "markdown",
   "metadata": {},
   "source": [
    "**Part A**: Compute the sample mean and sample median for $y=2$. Compute them both again for $y=8$."
   ]
  },
  {
   "cell_type": "code",
   "execution_count": 2,
   "metadata": {},
   "outputs": [
    {
     "name": "stdout",
     "output_type": "stream",
     "text": [
      "The mean and median when y=2 is 4.928571428571428 and 5.4\n",
      "The mean and median when y=8 is 5.785714285714286 and 6.0\n"
     ]
    }
   ],
   "source": [
    "a=[2, 5.4,5.0, 6.5, 7.7, 6.0, 1.9];\n",
    "b=[8, 5.4,5.0, 6.5, 7.7, 6.0, 1.9];\n",
    "mean_1=np.mean(a)\n",
    "meadian_1= np.median(a)\n",
    "print(\"The mean and median when y=2 is\", mean_1,\"and\", meadian_1)\n",
    "\n",
    "mean_2=np.mean(b)\n",
    "meadian_2= np.median(b)\n",
    "print(\"The mean and median when y=8 is\", mean_2,\"and\", meadian_2)"
   ]
  },
  {
   "cell_type": "markdown",
   "metadata": {},
   "source": [
    "**Part B**: Is there a value for $y$ that would make the mean of those data equal to $4$? If so, calculate the value of $y$ that makes the mean equal to $4$. If not, clearly explain why not.\n",
    "\n",
    "Is there a value for $y$ that would make the median of those data equal to $4$? If so, calculate the value of $y$ that makes the median equal to $4$. If not, clearly explain why not."
   ]
  },
  {
   "cell_type": "markdown",
   "metadata": {},
   "source": [
    "Mean = $\\frac{1}{n}*\\sum\\limits_{i=1}^{n}x_i$ since the mean must equal 4 and n=7 since that's how many elements we have we get: \n",
    "\n",
    "$4=\\frac{1}{7}*(y+32.5)$ where 32.5 is the 6 elements total. After some algebra, $y=28-32.5=-4.5$ so for the mean to equal 4, y must equal -4.5.\n",
    "\n",
    "There is no value y that could make the median 4. Median= $\\widetilde{x}= (\\frac{n+1}{2})^{th}$ for an ordered list since n=7 then $\\widetilde{x}=4$. Now suppose we make y=4 then the ordered list is $[1.9, 4, 5.0, 5.4, 6.0, 6.5, 7.7]$ then $\\widetilde{x}=5.4$. So there can never be a y that will make a median equal to 4."
   ]
  },
  {
   "cell_type": "markdown",
   "metadata": {},
   "source": [
    "**Part C**: Compute the sample median for the following cases: \n",
    "- $y=5$ \n",
    "- $y=50$ \n",
    "- $y=5.39$ \n",
    "- $y=5.41$\n",
    "- $y \\to \\infty$ \n",
    "- $y \\to -\\infty$ "
   ]
  },
  {
   "cell_type": "code",
   "execution_count": 3,
   "metadata": {
    "collapsed": true
   },
   "outputs": [
    {
     "name": "stdout",
     "output_type": "stream",
     "text": [
      "When y= 5 the median is 5.4\n",
      "When y= 50 the median is 6.0\n",
      "When y= 5.39 the median is 5.4\n",
      "When y= 5.41 the median is 5.41\n",
      "When y= inf the median is 6.0\n",
      "When y= -inf the median is 5.4\n"
     ]
    }
   ],
   "source": [
    "y_array=[5,50,5.39,5.41, math.inf, -(math.inf)]\n",
    "a=[5.4,5.0, 6.5, 7.7, 6.0, 1.9];\n",
    "\n",
    "for i in y_array:\n",
    "    #add the y value wanted\n",
    "    a.append(i)\n",
    "    print(\"When y=\",i, \"the median is\", np.median(a))\n",
    "    #delete it after calculation to aviod errors\n",
    "    del a[-1]"
   ]
  },
  {
   "cell_type": "markdown",
   "metadata": {},
   "source": [
    "**Part D**: Think about the previous parts, above, and describe in words or mathematical notation the answers to the following two questions:\n",
    "\n",
    "- By varying $y$, what is the set of all the possible values that the sample mean could take on?\n",
    "- By varying $y$, what is the set of all the possible values that the sample median could take on? Specifically, for what sets of $y$ values does the median take on its different possible values?"
   ]
  },
  {
   "cell_type": "markdown",
   "metadata": {},
   "source": [
    "Since the mean = $\\frac{1}{n}*\\sum\\limits_{i=1}^{n}x_i$ then the sample mean could take on any real value by varying y since changing y will always give an new unique sample mean.\n",
    "\n",
    "The set to all possible values that the sample median can be is when \n",
    "\n",
    "1. If $y\\leq 5.4$ then $\\widetilde{x}=5.4$ because y will always be less than or equal to the $4^{th}$ element.\n",
    "2. If $y\\geq 5.4$ then $\\widetilde{x}=6.0$ because y will always be greater than or equal to the $4^{th}$ element.\n",
    "3. If $5.4<y<6$ then $\\widetilde{x}=y$ because y will always be the 4th element in this case.\n"
   ]
  },
  {
   "cell_type": "markdown",
   "metadata": {},
   "source": [
    "[Back to top](#top)\n",
    "\n",
    "<br>\n",
    "\n",
    "<a/ id='p3'></a>\n",
    "\n",
    "### (20 pts) Problem 3 \n",
    "***\n",
    "\n",
    "Let $x_1, x_2, \\ldots, x_n$ be $n$ observations of a variable of interest.  Recall that the sample mean $\\bar{x}_n$ and sample variance $s^2_n$ are given by \n",
    "\n",
    "$$\n",
    "\\bar{x}_n = \\frac{1}{n}\\sum_{k=1}^n x_k \\quad \\textrm{and} \\quad s^2_n = \\frac{1}{n-1}\\sum_{k=1}^n \\left( x_k - \\bar{x}_n\\right)^2 \\qquad \\tag{Equation 1}\n",
    "$$\n",
    "\n",
    "where here the subscript $n$'s indicate the number of observations in the sample. Notice that a natural computation of the variance requires two passes over the data: one to compute the mean, and a second to subtract the mean from each observation and compute the sum of squares. It is often useful to be able to compute the variance in a single pass, inspecting each value $x_k$ only once; for example, when the data are being collected without enough storage to keep all the values, or when costs of memory access dominate those of computation. In this problem you will explore two methods for such an _online_ computation of the mean.  \n",
    "\n",
    "**Part A**: Show algebraically that the following relation holds between the mean of the first $n-1$ observations and the mean of all $n$ observations: \n",
    "\n",
    "$$\n",
    "\\bar{x}_n = \\bar{x}_{n-1} + \\frac{x_n - \\bar{x}_{n-1}}{n}\n",
    "$$\n",
    "\n",
    "Note that you can get an expression for $\\bar{x}_{n-1}$ by simply replacing $n$ in Equation 1 above with $n-1$."
   ]
  },
  {
   "cell_type": "markdown",
   "metadata": {},
   "source": [
    "LHS (Left hand side): \n",
    "$$\n",
    "\\bar{x}_{n-1} + \\frac{x_n - \\bar{x}_{n-1}}{n}= \\bar{x}_{n-1}*\\frac{n}{n} + \\frac{x_n - \\bar{x}_{n-1}}{n}= \\frac{\\bar{x}_{n-1}*n +x_n - \\bar{x}_{n-1}}{n}=\\frac{\\frac{n} {n-1}\\sum_{k=1}^{n-1}\\bar{x}_{k} -\\frac{1} {n-1}\\sum_{k=1}^{n-1}\\bar{x}_{k} + x_n}{n}\n",
    "=\\frac{\\frac{n-1} {n-1}\\sum_{k=1}^{n-1}\\bar{x}_{k}+x_n}{n}= \\frac{1}{n}\\sum_{k=1}^{n-1}\\bar{x}_{n-1}+\\frac{x_n}{n}=\n",
    "\\frac{1}{n}\\sum_{k=1}^{n}\\bar{x}_{k}\n",
    "$$\n",
    "\n",
    "RHS:\n",
    "$$\n",
    "\\bar{x}_n = \\frac{1}{n}\\sum_{k=1}^n x_k\n",
    "$$"
   ]
  },
  {
   "cell_type": "markdown",
   "metadata": {},
   "source": [
    "**Part B**: Write a function `my_sample_mean` that takes as its input a numpy array and returns the mean of that numpy array using the formulas from class (written above). Write another function `my_sample_var` that takes as its input a numpy array and returns the variance of that numpy array, again using the formulas from class (written above). You may **not** use any built-in sample mean or variance functions."
   ]
  },
  {
   "cell_type": "code",
   "execution_count": 4,
   "metadata": {
    "collapsed": true
   },
   "outputs": [],
   "source": [
    "def my_sample_mean(array):\n",
    "    n=len(array)\n",
    "    total=0\n",
    "    for i in array:\n",
    "        total+=i\n",
    "    return total/n;\n",
    "        \n",
    "def my_sample_var(array):\n",
    "    mean= my_sample_mean(array)\n",
    "    n=len(array)\n",
    "    total=0\n",
    "    for i in array:\n",
    "        total+=(i-mean)**2\n",
    "    return (1/(n-1)*total)"
   ]
  },
  {
   "cell_type": "markdown",
   "metadata": {},
   "source": [
    "**Part C**: Use your functions from Part B to compute the sample mean and sample variance of the following array, which contains the hedgehog-handling abilities (HHA) of a sample of 12 CU Boulder hedgehog handlers.\n",
    "\n",
    "`hha = [98, 26, 83, 56, 60, 39, 81, 19, 72, 78, 94, 42]`"
   ]
  },
  {
   "cell_type": "code",
   "execution_count": 5,
   "metadata": {
    "collapsed": true
   },
   "outputs": [
    {
     "name": "stdout",
     "output_type": "stream",
     "text": [
      "The mean is 62.333333333333336 and the sample variance is 690.060606060606\n"
     ]
    }
   ],
   "source": [
    "hha = [98, 26, 83, 56, 60, 39, 81, 19, 72, 78, 94, 42]\n",
    "mean=my_sample_mean(hha)\n",
    "sam_var=my_sample_var(hha)\n",
    "print(\"The mean is\", mean, \"and the sample variance is\", sam_var)"
   ]
  },
  {
   "cell_type": "markdown",
   "metadata": {},
   "source": [
    "**Part D**: Implement a third function called `update_mean` that implements the formula whose validity you proved in Part A. Note that this function will need to take as its input three things: $x_n$, $\\bar{x}_{n-1}$ and $n$. A function header is provided for you. This function may be auto-graded, so please do not change the given API - the order of inputs matters! If you change it, you might lose points.\n",
    "\n",
    "Use this function to compute the values that you get from taking the mean of the first hedgehog handler, the first two hedgehog handlers, the first three hedgehog handlers, and so on up to all of the hedgehog handler data points. Store your HHA means in a numpy array called `hha_means`.  Report all 12 estimates in `hha_means`."
   ]
  },
  {
   "cell_type": "code",
   "execution_count": 6,
   "metadata": {
    "collapsed": true
   },
   "outputs": [
    {
     "name": "stdout",
     "output_type": "stream",
     "text": [
      "[98, 62.0, 69.0, 65.75, 64.6, 60.33333333333333, 63.285714285714285, 57.75, 59.333333333333336, 61.2, 64.18181818181819, 62.333333333333336]\n"
     ]
    }
   ],
   "source": [
    "# Given API:\n",
    "def update_mean(prev_mean, xn, n):\n",
    "    if n==1:\n",
    "        return xn;\n",
    "    else:\n",
    "        up_mean= prev_mean + (xn-prev_mean)/n\n",
    "        return up_mean;\n",
    "def hha_total(array):\n",
    "    prev_mean=0\n",
    "    hha_means=[]\n",
    "    for i in range(len(array)):\n",
    "        hha_means.append(update_mean(prev_mean, array[i], i+1))\n",
    "        prev_mean=hha_means[i]\n",
    "    return hha_means\n",
    "hha = [98, 26, 83, 56, 60, 39, 81, 19, 72, 78, 94, 42]\n",
    "print(hha_total(hha))\n"
   ]
  },
  {
   "cell_type": "markdown",
   "metadata": {},
   "source": [
    "To ensure your function complies with the given API, run this small test, where we suppose we have a mean of $\\bar{x}_n = 1$ with the first $2$ data points (`prev_mean`), and we update this with the 3rd ($n=3$) data point which is $x_3=2$:"
   ]
  },
  {
   "cell_type": "code",
   "execution_count": 7,
   "metadata": {
    "collapsed": true
   },
   "outputs": [],
   "source": [
    "assert update_mean(1,2,3)==4/3, \"Warning: function seems broken.\""
   ]
  },
  {
   "cell_type": "code",
   "execution_count": null,
   "metadata": {
    "collapsed": true
   },
   "outputs": [],
   "source": []
  },
  {
   "cell_type": "markdown",
   "metadata": {},
   "source": [
    "[Back to top](#top)\n",
    "\n",
    "<br>\n",
    "\n",
    "<a/ id='p4'></a>\n",
    "\n",
    "### (25 pts) Problem 4\n",
    "*** \n",
    "Some claim that the final hours aboard the RMS Titanic were marked by \"class warfare\" in which the people with first-class tickets took all the good spots on the lifeboats; others claim that the final hours were characterized by male chivalry, in which the men valiantly gave up their positions in the boats and succumbed bravely to the depths of the Atlantic. \n",
    "\n",
    "We have the data on survival rates by class and by sex, so let's figure out whether there is evidence for these scenarios. Access the Titanic data in `titanic_data.csv` and store it in a Pandas DataFrame. The data contains information pertaining to class status (**Pclass**), survival (**Survived**), and gender (**Sex**) of passengers, among other things. Be sure to use the `titanic_data.csv` data set, *not* the `clean_titanic_data` file from the in-class notebook."
   ]
  },
  {
   "cell_type": "code",
   "execution_count": 8,
   "metadata": {},
   "outputs": [
    {
     "data": {
      "text/html": [
       "<div>\n",
       "<style scoped>\n",
       "    .dataframe tbody tr th:only-of-type {\n",
       "        vertical-align: middle;\n",
       "    }\n",
       "\n",
       "    .dataframe tbody tr th {\n",
       "        vertical-align: top;\n",
       "    }\n",
       "\n",
       "    .dataframe thead th {\n",
       "        text-align: right;\n",
       "    }\n",
       "</style>\n",
       "<table border=\"1\" class=\"dataframe\">\n",
       "  <thead>\n",
       "    <tr style=\"text-align: right;\">\n",
       "      <th></th>\n",
       "      <th>PassengerId</th>\n",
       "      <th>Survived</th>\n",
       "      <th>Pclass</th>\n",
       "      <th>Name</th>\n",
       "      <th>Sex</th>\n",
       "      <th>Age</th>\n",
       "      <th>SibSp</th>\n",
       "      <th>Parch</th>\n",
       "      <th>Ticket</th>\n",
       "      <th>Fare</th>\n",
       "      <th>Cabin</th>\n",
       "      <th>Embarked</th>\n",
       "    </tr>\n",
       "  </thead>\n",
       "  <tbody>\n",
       "    <tr>\n",
       "      <th>0</th>\n",
       "      <td>1</td>\n",
       "      <td>0</td>\n",
       "      <td>3</td>\n",
       "      <td>Braund, Mr. Owen Harris</td>\n",
       "      <td>male</td>\n",
       "      <td>36.0</td>\n",
       "      <td>1</td>\n",
       "      <td>0</td>\n",
       "      <td>A/5 21171</td>\n",
       "      <td>7.2500</td>\n",
       "      <td>NaN</td>\n",
       "      <td>S</td>\n",
       "    </tr>\n",
       "    <tr>\n",
       "      <th>1</th>\n",
       "      <td>2</td>\n",
       "      <td>1</td>\n",
       "      <td>1</td>\n",
       "      <td>Cumings, Mrs. John Bradley (Florence Briggs Th...</td>\n",
       "      <td>female</td>\n",
       "      <td>18.0</td>\n",
       "      <td>1</td>\n",
       "      <td>0</td>\n",
       "      <td>PC 17599</td>\n",
       "      <td>71.2833</td>\n",
       "      <td>C85</td>\n",
       "      <td>C</td>\n",
       "    </tr>\n",
       "    <tr>\n",
       "      <th>2</th>\n",
       "      <td>3</td>\n",
       "      <td>1</td>\n",
       "      <td>3</td>\n",
       "      <td>Heikkinen, Miss. Laina</td>\n",
       "      <td>female</td>\n",
       "      <td>14.0</td>\n",
       "      <td>0</td>\n",
       "      <td>0</td>\n",
       "      <td>STON/O2. 3101282</td>\n",
       "      <td>7.9250</td>\n",
       "      <td>NaN</td>\n",
       "      <td>S</td>\n",
       "    </tr>\n",
       "    <tr>\n",
       "      <th>3</th>\n",
       "      <td>4</td>\n",
       "      <td>1</td>\n",
       "      <td>1</td>\n",
       "      <td>Futrelle, Mrs. Jacques Heath (Lily May Peel)</td>\n",
       "      <td>female</td>\n",
       "      <td>27.0</td>\n",
       "      <td>1</td>\n",
       "      <td>0</td>\n",
       "      <td>113803</td>\n",
       "      <td>53.1000</td>\n",
       "      <td>C123</td>\n",
       "      <td>S</td>\n",
       "    </tr>\n",
       "    <tr>\n",
       "      <th>4</th>\n",
       "      <td>5</td>\n",
       "      <td>0</td>\n",
       "      <td>3</td>\n",
       "      <td>Allen, Mr. William Henry</td>\n",
       "      <td>male</td>\n",
       "      <td>63.0</td>\n",
       "      <td>0</td>\n",
       "      <td>0</td>\n",
       "      <td>373450</td>\n",
       "      <td>8.0500</td>\n",
       "      <td>NaN</td>\n",
       "      <td>S</td>\n",
       "    </tr>\n",
       "  </tbody>\n",
       "</table>\n",
       "</div>"
      ],
      "text/plain": [
       "   PassengerId  Survived  Pclass  \\\n",
       "0            1         0       3   \n",
       "1            2         1       1   \n",
       "2            3         1       3   \n",
       "3            4         1       1   \n",
       "4            5         0       3   \n",
       "\n",
       "                                                Name     Sex   Age  SibSp  \\\n",
       "0                            Braund, Mr. Owen Harris    male  36.0      1   \n",
       "1  Cumings, Mrs. John Bradley (Florence Briggs Th...  female  18.0      1   \n",
       "2                             Heikkinen, Miss. Laina  female  14.0      0   \n",
       "3       Futrelle, Mrs. Jacques Heath (Lily May Peel)  female  27.0      1   \n",
       "4                           Allen, Mr. William Henry    male  63.0      0   \n",
       "\n",
       "   Parch            Ticket     Fare Cabin Embarked  \n",
       "0      0         A/5 21171   7.2500   NaN        S  \n",
       "1      0          PC 17599  71.2833   C85        C  \n",
       "2      0  STON/O2. 3101282   7.9250   NaN        S  \n",
       "3      0            113803  53.1000  C123        S  \n",
       "4      0            373450   8.0500   NaN        S  "
      ]
     },
     "execution_count": 8,
     "metadata": {},
     "output_type": "execute_result"
    }
   ],
   "source": [
    "df = pd.read_csv(\"titanic_data.csv\")\n",
    "df.head()"
   ]
  },
  {
   "cell_type": "markdown",
   "metadata": {},
   "source": [
    "**Part A**: Consider the two claims: class warfare, and male chivalry. Suppose that class warfare occurred in the final hours aboard the Titanic.  What patterns might you expect to see in the data?  Suppose that male chivalry was widespread during the final hours instead. What patterns might you then expect to see in the data?  Explain both of these hypothesized patterns in words. Are these two hypotheses mutually exclusive or not?"
   ]
  },
  {
   "cell_type": "markdown",
   "metadata": {},
   "source": [
    "If class warfare occurred in the final hours then I would expect people in higher Pclasses to have survived so must of the Pclass 1 people should survive while be Pclass 3 should have very little people survive. If male chivalry was widespread I would expect women and possibly children to have survived overall. These two hypotheses are not mutually exclusive because the data could show women in children in higher Pclasses and a higher survival rates compared to women and children in lower Pclasses."
   ]
  },
  {
   "cell_type": "markdown",
   "metadata": {},
   "source": [
    "**Part B**: Use Pandas methods to create a clean data set by removing any rows from the DataFrame that are missing values corresponding to **Survived**, **Pclass**, **Age**, or **Sex**. Store the clean data in a DataFrame called dfTitanic. Be sure to show any exploratory work determining if/where there are rows with missing values."
   ]
  },
  {
   "cell_type": "code",
   "execution_count": 9,
   "metadata": {},
   "outputs": [],
   "source": [
    "#we want to remove all blank spaces so take the function dropna and sue to to clean through all\n",
    "#missing data points and it will remove all the rows in the sections provided\n",
    "df_clean=df.dropna(subset=['Survived','Pclass','Age','Sex'])"
   ]
  },
  {
   "cell_type": "markdown",
   "metadata": {},
   "source": [
    "**Part C**: Compute the fraction of survivors according to class and gender. There are 3 passenger classes and 2 sexes in the data set, so you should report all 6 possible combinations.  Then, answer 3 questions:\n",
    "* **(i)** Within each passenger class, were men or women more/less/equally likely to survive?\n",
    "* **(ii)**  Looking at only the male or only the female passengers, how is passenger class related to the category's survival rate?\n",
    "* **(iii)**  Did men in first class or women in third class have a higher survival rate? "
   ]
  },
  {
   "cell_type": "code",
   "execution_count": 10,
   "metadata": {
    "collapsed": true
   },
   "outputs": [
    {
     "name": "stdout",
     "output_type": "stream",
     "text": [
      "Surviving male pessengers for class 1 is 39.0 %\n",
      "Surviving male pessengers for class 2 is 18.0 %\n",
      "Surviving male pessengers for class 3 is 14.0 %\n",
      "Surviving female pessengers for class 1 is 96.0 %\n",
      "Surviving female pessengers for class 2 is 93.0 %\n",
      "Surviving female pessengers for class 3 is 53.0 %\n"
     ]
    }
   ],
   "source": [
    "male_survive=[]\n",
    "female_survive=[]\n",
    "#clean first based on class\n",
    "Pclass1=df_clean[df_clean.Pclass==1]\n",
    "Pclass2=df_clean[df_clean.Pclass==2]\n",
    "Pclass3=df_clean[df_clean.Pclass==3]\n",
    "\n",
    "#Get all female passengers\n",
    "Pclass1f=Pclass1[Pclass1.Sex=='female']\n",
    "Pclass2f=Pclass2[Pclass2.Sex=='female']\n",
    "Pclass3f=Pclass3[Pclass3.Sex=='female']\n",
    "#get all male passengers\n",
    "Pclass1m=Pclass1[Pclass1.Sex =='male']\n",
    "Pclass2m=Pclass2[Pclass2.Sex =='male']\n",
    "Pclass3m=Pclass3[Pclass3.Sex =='male']\n",
    "#now find for males\n",
    "Pclass1m_s=Pclass1m['Survived'].sum()\n",
    "Pclass2m_s=Pclass2m['Survived'].sum()\n",
    "Pclass3m_s=Pclass3m['Survived'].sum()\n",
    "#now find totals for females\n",
    "Pclass1f_s=Pclass1f['Survived'].sum()\n",
    "Pclass2f_s=Pclass2f['Survived'].sum()\n",
    "Pclass3f_s=Pclass3f['Survived'].sum()\n",
    "\n",
    "#find how many total male passenger for each class\n",
    "Pclass1m_tot=len(Pclass1m.index)\n",
    "Pclass2m_tot=len(Pclass2m.index)\n",
    "Pclass3m_tot=len(Pclass3m.index)\n",
    "\n",
    "#find how many total female passenger for each class\n",
    "Pclass1f_tot=len(Pclass1f.index)\n",
    "Pclass2f_tot=len(Pclass2f.index)\n",
    "Pclass3f_tot=len(Pclass3f.index)\n",
    "\n",
    "male_survive.append(Pclass1m_s/Pclass1m_tot)\n",
    "male_survive.append(Pclass2m_s/Pclass2m_tot)\n",
    "male_survive.append(Pclass3m_s/Pclass3m_tot)\n",
    "\n",
    "female_survive.append(Pclass1f_s/Pclass1f_tot)\n",
    "female_survive.append(Pclass2f_s/Pclass2f_tot)\n",
    "female_survive.append(Pclass3f_s/Pclass3f_tot)\n",
    "\n",
    "for i in range(0,3):\n",
    "    print(\"Surviving male pessengers for class\", i+1, \"is\", round(male_survive[i]*100),\"%\")\n",
    "for i in range(0,3):\n",
    "    print(\"Surviving female pessengers for class\", i+1, \"is\", round(female_survive[i]*100),\"%\")"
   ]
  },
  {
   "cell_type": "markdown",
   "metadata": {},
   "source": [
    "i: Based on the data for all of the classes, women were always more likely to survive when compared to men.\n",
    "ii: The higher the class, the more liekly it is for a passenger to survive because the survival percentage gets higher at each step as then class is higher.\n",
    "iii: Women in class 3 had higher survival rates"
   ]
  },
  {
   "cell_type": "markdown",
   "metadata": {},
   "source": [
    "**Part D**: Plot a histogram of all of the passenger ages, using the bin edges $[0,5,10,\\ldots,70,75,80]$ defined by `my_bins` below. How would you characterize the distribution of **AGE**? (By _characterize_ we mean that you should indicate whether the data are unimodal, bimodal, multimodal, symmetric, negatively skewed, positively skewed, etc.)  Be sure to label your axes and use your figure to justify your conclusions."
   ]
  },
  {
   "cell_type": "code",
   "execution_count": 11,
   "metadata": {
    "collapsed": true
   },
   "outputs": [
    {
     "data": {
      "image/png": "[encoded data removed]",
      "text/plain": [
       "<Figure size 432x288 with 1 Axes>"
      ]
     },
     "metadata": {
      "needs_background": "light"
     },
     "output_type": "display_data"
    }
   ],
   "source": [
    "my_bins = range(0,85,5)\n",
    "age_hist=df_clean.hist(column =\"Age\", bins=my_bins)\n",
    "\n",
    "for i in age_hist.flatten():\n",
    "    i.set_xlabel(\"Passenger's Age\")\n",
    "    i.set_ylabel(\"Number of Passengers\")"
   ]
  },
  {
   "cell_type": "code",
   "execution_count": null,
   "metadata": {},
   "outputs": [],
   "source": []
  },
  {
   "cell_type": "markdown",
   "metadata": {},
   "source": []
  },
  {
   "cell_type": "markdown",
   "metadata": {},
   "source": [
    "**Part E**: One might wonder how a passenger's age is related to the likelihood that they would survive the Titanic disaster. To answer this question graphically, plot two density histograms on the same set of axes, showing the distribution of the ages of passengers who survived, and the distribution of the ages of passengers who did not. \n",
    "* Use the bin edges $[0,5,10,\\ldots,70,75,80]$ for both histograms.\n",
    "* This problem is about a *ship* sinking in the *ocean*, so use **coral** and **seagreen** as the facecolors for your histogram boxes.\n",
    "* Plot both histograms on a single set of axes (there should be only one panel in the figure you create), but use Matplotlib/Pandas plotting functionality to make the faces of the histogram boxes somewhat transparent, so both histograms are visible.\n",
    "* Include a legend and label your axes.\n",
    "* Comment on the results. Does your figure suggest that some age ranges are more or less likely to have survived the disaster than other ages? Fully explain your reasoning and use your figure to justify your conclusions.\n",
    "* If you noticed some relationship between age and likelihood of survival, what is one possible explanation?"
   ]
  },
  {
   "cell_type": "code",
   "execution_count": 12,
   "metadata": {},
   "outputs": [
    {
     "data": {
      "text/plain": [
       "Text(0,0.5,'Density of Passengers')"
      ]
     },
     "execution_count": 12,
     "metadata": {},
     "output_type": "execute_result"
    },
    {
     "data": {
      "image/png": "[encoded data removed]",
      "text/plain": [
       "<Figure size 432x288 with 1 Axes>"
      ]
     },
     "metadata": {
      "needs_background": "light"
     },
     "output_type": "display_data"
    }
   ],
   "source": [
    "fig, ax = plt.subplots(1,1)\n",
    "survived=df_clean[df_clean[\"Survived\"]==1]\n",
    "\n",
    "dead=df_clean[df_clean[\"Survived\"]==0]\n",
    "ax.hist(survived[\"Age\"], color=\"seagreen\", alpha=.4, density=True)\n",
    "ax.hist(dead[\"Age\"], color=\"coral\", alpha=.4, density=True)\n",
    "ax.legend([\"Survived\", \"Dead\"])\n",
    "ax.set_title(\"Density histogram of Passengers Age and If They Survived\")\n",
    "ax.set_xlabel(\"Passenger's Age\")\n",
    "ax.set_ylabel(\"Density of Passengers\")\n"
   ]
  },
  {
   "cell_type": "markdown",
   "metadata": {},
   "source": []
  },
  {
   "cell_type": "markdown",
   "metadata": {},
   "source": [
    "**Part F:** In Part E, we plotted two *density* histograms, showing the distributions of ages of passengers that survived or did not survive the Titanic disaster. Why would it be misleading for us to have plotted these as *frequency* histograms instead?"
   ]
  },
  {
   "cell_type": "markdown",
   "metadata": {},
   "source": [
    "A frequency histogram would be misleading because the number of passengers the died is higher than the amount that survived making it seem as though the percentage of people who died in an age group is always higher when this is not true because as seen above, people in the 20's and 30's were more likely to live. In a frequency graph this is not shown clearly, as shown below, which is why it is misleading."
   ]
  },
  {
   "cell_type": "code",
   "execution_count": 13,
   "metadata": {},
   "outputs": [
    {
     "data": {
      "text/plain": [
       "Text(0,0.5,'Frequency of Passengers')"
      ]
     },
     "execution_count": 13,
     "metadata": {},
     "output_type": "execute_result"
    },
    {
     "data": {
      "image/png": "[encoded data removed]",
      "text/plain": [
       "<Figure size 432x288 with 1 Axes>"
      ]
     },
     "metadata": {
      "needs_background": "light"
     },
     "output_type": "display_data"
    }
   ],
   "source": [
    "fig, ax = plt.subplots(1,1)\n",
    "survived=df_clean[df_clean[\"Survived\"]==1]\n",
    "dead=df_clean[df_clean[\"Survived\"]==0]\n",
    "ax.hist(survived[\"Age\"], color=\"seagreen\", alpha=.4)\n",
    "ax.hist(dead[\"Age\"], color=\"coral\", alpha=.4)\n",
    "ax.legend([\"Survived\", \"Dead\"])\n",
    "ax.set_title(\"Frequency histogram of Passengers Age and If They Survived\")\n",
    "ax.set_xlabel(\"Passenger's Age\")\n",
    "ax.set_ylabel(\"Frequency of Passengers\")"
   ]
  },
  {
   "cell_type": "markdown",
   "metadata": {},
   "source": [
    "**Part G**: Do the data suggest class warfare, male chivalry, or some combination of both characteristics in the final hours aboard the Titanic?  Justify your conclusion based on the computations done above, or do any other analysis that you like, but be sure to clearly justify your conclusion. "
   ]
  },
  {
   "cell_type": "markdown",
   "metadata": {},
   "source": [
    "The data suggest that there was both male chivalry and class warefare because as shown in part C. For any given classs women always have a higher survival rate with the lowest survival rate for women is 53% and the highest survival rate for men was 39%. There was also class warfare because as the class rate got higher for both males and females the survival rate always got higher as shown in part C."
   ]
  },
  {
   "cell_type": "markdown",
   "metadata": {},
   "source": [
    "[Back to top](#top)\n",
    "\n",
    "<br>\n",
    "\n",
    "<a/ id='p5'></a>\n",
    "\n",
    "### (25 pts) Problem 5 - FCQ Data from Days of Yore\n",
    "---\n",
    "\n",
    "The `fcq_data.csv` data set on Canvas contains about 12 full academic years of Faculty Course Questionnaire (FCQ) data from the University of Colorado Boulder. The data include the year and term (fall or spring), the course subject and number, the distribution of grades, and other such information. The file `fcq_data_info.xlsx` contains some **metadata**, which describes what all of the columns in the main data file are, and how to interpret some of the measurements. Note that some of the columns from the original data set have been removed in order to make the file size a bit more manageable.\n",
    "\n",
    "First, load the data file, and check out what are all of the available column headers."
   ]
  },
  {
   "cell_type": "code",
   "execution_count": 14,
   "metadata": {},
   "outputs": [
    {
     "name": "stdout",
     "output_type": "stream",
     "text": [
      "Index(['YearTerm', 'Subject', 'Course', 'CourseTitle', 'Activity_Type',\n",
      "       'Hours', 'N_EOT', 'N_ENROLL', 'N_GRADE', 'AVG_GRD', 'PCT_A', 'PCT_B',\n",
      "       'PCT_C', 'PCT_D', 'PCT_F', 'PCT_C_MINUS_OR_BELOW', 'PCT_DF', 'PCT_DFW',\n",
      "       'PCT_WDRAW', 'PCT_INCOMP', 'N_PASS', 'N_NOCRED', 'N_INCOMP',\n",
      "       'Workload_Raw', 'Workload_Hrs_Wk', 'AvgCourse', 'AvgInstructor',\n",
      "       'N_Ret'],\n",
      "      dtype='object')\n"
     ]
    }
   ],
   "source": [
    "df = pd.read_csv(\"fcq_data.csv\")\n",
    "print(df.columns)"
   ]
  },
  {
   "cell_type": "markdown",
   "metadata": {},
   "source": [
    "**Part A:** Suppose we want to restrict our attention to only undergraduate classes in the Computer Science department. Create a new DataFrame called `dfC` consisting only of undergraduate computer science classes. You may decide for yourself how to obtain only the rows corresponding to **undergraduate** and **computer science** courses. How many data points are there total?"
   ]
  },
  {
   "cell_type": "code",
   "execution_count": 15,
   "metadata": {},
   "outputs": [
    {
     "name": "stdout",
     "output_type": "stream",
     "text": [
      "The amount of undergraduates in computer sciences coursese are 43168.0\n"
     ]
    }
   ],
   "source": [
    "dfC=df[df.Subject==\"CSCI\"]\n",
    "dfC=dfC[dfC.Course<5000]\n",
    "amount=dfC['N_GRADE'].sum()\n",
    "print(\"The amount of undergraduates in computer sciences coursese are\", amount)"
   ]
  },
  {
   "cell_type": "markdown",
   "metadata": {},
   "source": [
    "**Part B:** Using the undergraduate computer science courses DataFrame and the `isnull()` and/or `notnull()` (or `isna`/`notna`) methods in Pandas, determine which column(s) in are missing any data. Also using Pandas methods, report how many values are missing from each of those column(s). Finally, use the `dropna()` method to remove any rows that are missing data. For the remainder of this problem, use the cleaned DataFrame for analysis. How many data points are there in the cleaned DataFrame?"
   ]
  },
  {
   "cell_type": "code",
   "execution_count": 16,
   "metadata": {},
   "outputs": [
    {
     "name": "stdout",
     "output_type": "stream",
     "text": [
      "Where there is no data:\n",
      "YearTerm                 0\n",
      "Subject                  0\n",
      "Course                   0\n",
      "CourseTitle              0\n",
      "Activity_Type            0\n",
      "Hours                    0\n",
      "N_EOT                    0\n",
      "N_ENROLL                 0\n",
      "N_GRADE                  0\n",
      "AVG_GRD                  0\n",
      "PCT_A                    0\n",
      "PCT_B                    0\n",
      "PCT_C                    0\n",
      "PCT_D                    0\n",
      "PCT_F                    0\n",
      "PCT_C_MINUS_OR_BELOW     0\n",
      "PCT_DF                   0\n",
      "PCT_DFW                  0\n",
      "PCT_WDRAW                0\n",
      "PCT_INCOMP               0\n",
      "N_PASS                   0\n",
      "N_NOCRED                 0\n",
      "N_INCOMP                 0\n",
      "Workload_Raw            27\n",
      "Workload_Hrs_Wk         27\n",
      "AvgCourse               27\n",
      "AvgInstructor           27\n",
      "N_Ret                   23\n",
      "dtype: int64\n",
      "The total amount of cleaned data points are 590\n"
     ]
    }
   ],
   "source": [
    "no_data=dfC.isnull().sum()\n",
    "print(\"Where there is no data:\")\n",
    "print(no_data)\n",
    "dfC=dfC.dropna();\n",
    "data_points=len(dfC.index);\n",
    "print(\"The total amount of cleaned data points are\", data_points)\n"
   ]
  },
  {
   "cell_type": "markdown",
   "metadata": {},
   "source": []
  },
  {
   "cell_type": "markdown",
   "metadata": {},
   "source": [
    "**Part C:** One might hypothesize that students' grades are higher in one credit-hour courses than in regular lecture sections. Note that `Hours` corresponds to the number of credit-hours a class is worth, and that Average Grades are provided in the data set on a GPA-scale (4=A, 3=B, and so on).\n",
    "\n",
    "Compute the mean and median Average Grade for all undergraduate Computer Science courses, and for only the one credit-hour undergraduate Computer Science courses. Report all four of these numbers, and comment on the results. Does your calculation seem to support our hypothesis or not? "
   ]
  },
  {
   "cell_type": "code",
   "execution_count": 17,
   "metadata": {},
   "outputs": [
    {
     "name": "stdout",
     "output_type": "stream",
     "text": [
      "The mean for all CS courses and one credit CS courses respectively are 3.2308474576271187 and 3.532608695652174\n",
      "The median for all CS courses and one credit CS courses respectively are 3.26 and 3.52\n"
     ]
    }
   ],
   "source": [
    "dfC_one= dfC[dfC.Hours==1]\n",
    "mean=dfC[\"AVG_GRD\"].mean()\n",
    "median=dfC[\"AVG_GRD\"].median()\n",
    "mean_oc= dfC_one[\"AVG_GRD\"].mean()\n",
    "median_oc=dfC_one[\"AVG_GRD\"].median()\n",
    "print(\"The mean for all CS courses and one credit CS courses respectively are\",mean, \"and\",mean_oc)\n",
    "print(\"The median for all CS courses and one credit CS courses respectively are\",median, \"and\",median_oc)"
   ]
  },
  {
   "cell_type": "markdown",
   "metadata": {},
   "source": [
    "My Calculations do support this claim because both the mean and medain for one credit classes are higher than the mean and median all CSCI classes."
   ]
  },
  {
   "cell_type": "markdown",
   "metadata": {},
   "source": [
    "**Part D:** Another hypothesis one might want to test using this data set is whether or not students' grades are different based on the course *level* - lower-division (1000s and 2000s) versus upper-division (3000s and 4000s). Create side-by-side box-and-whisker plots to compare the average grades of lower-division computer science courses versus upper-division computer science courses.  Use the box-and-whisker plot conventions discussed in lecture, and be sure to include a legend and label your axes.\n",
    "\n",
    "Comment on the results. Does your figure suggest there is a difference in the distribution of average course grades, depending on whether a class is lower- or upper-division? If you noticed a difference between the two distributions, what is one cause that could explain this difference? Fully explain your reasoning."
   ]
  },
  {
   "cell_type": "code",
   "execution_count": 18,
   "metadata": {},
   "outputs": [
    {
     "data": {
      "text/plain": [
       "Text(0.5,1,'Higher Divsion')"
      ]
     },
     "execution_count": 18,
     "metadata": {},
     "output_type": "execute_result"
    },
    {
     "data": {
      "image/png": "[encoded data removed]",
      "text/plain": [
       "<Figure size 432x288 with 2 Axes>"
      ]
     },
     "metadata": {
      "needs_background": "light"
     },
     "output_type": "display_data"
    }
   ],
   "source": [
    "lower_div=dfC[dfC.Course<3000]\n",
    "higher_div=dfC[dfC.Course>=3000]\n",
    "ld_grade=lower_div[\"AVG_GRD\"]\n",
    "hd_grade=higher_div[\"AVG_GRD\"]\n",
    "fig, ax = plt.subplots(1,2)\n",
    "lower_div.boxplot(column=[\"AVG_GRD\"],ax=ax[0] )\n",
    "higher_div.boxplot(column=[\"AVG_GRD\"])\n",
    "ax[0].set_ylabel(\"GPA\")\n",
    "ax[0].set_title(\"Lower Division\")\n",
    "ax[1].set_title(\"Higher Divsion\")"
   ]
  },
  {
   "cell_type": "markdown",
   "metadata": {},
   "source": [
    "The average GPA for lower dicions classes is lower than the higher divison classes. This is could be caused by the fact that many people who are not CS majors also need to take lower level CS courses and just are not as interested in the classes and do worse than than people who take higher division classes. The only students taking higher division classes are those who are CS majors, and therefore are more passionate in the class and want to do better. "
   ]
  },
  {
   "cell_type": "markdown",
   "metadata": {},
   "source": [
    "**Part E:** One more hypothesis we might want to explore is whether or not there has actually been a large increase in Computer Science enrollments in recent years. There are 12 academic years of data, which means there are 24 distinct semesters (from Fall 2006 to Spring 2018). For each semester, compute the total number of students enrolled in Computer Science courses. Note that you will almost certainly be counting some students twice (or more!), but that's okay - this is still a good measure of the total demand for Computer Science classes. Use the total number of students enrolled at the end of the term as the number of students for each class.\n",
    "\n",
    "Make a plot of the total number of Computer Science students versus the semester, with the most recent semester (Spring 2018) on the right and most distant past (Fall 2006) on the left. Label your axes. For the semester axis (the x-axis), label with the actual semester as a character string, like \"Fall 2006\" or \"Spring 2007\", for example. You may want to look up how to rotate the x-tick labels in order to make the semester name labels fit nicely. Comment on the results and any interesting trends or patterns you notice in Computer Science enrollment numbers."
   ]
  },
  {
   "cell_type": "code",
   "execution_count": 19,
   "metadata": {
    "collapsed": true
   },
   "outputs": [
    {
     "name": "stdout",
     "output_type": "stream",
     "text": [
      "[779.0, 673.0, 874.0, 761.0, 1018.0, 849.0, 1089.0, 882.0, 1077.0, 851.0, 1212.0, 1161.0, 1404.0, 1358.0, 1777.0, 1579.0, 2279.0, 2129.0, 3093.0, 2778.0, 3308.0, 3192.0, 4031.0, 3890.0]\n"
     ]
    },
    {
     "data": {
      "image/png": "[encoded data removed]",
      "text/plain": [
       "<Figure size 432x288 with 1 Axes>"
      ]
     },
     "metadata": {
      "needs_background": "light"
     },
     "output_type": "display_data"
    }
   ],
   "source": [
    "#Find the semster for each tear where 1= spring, 7=fall\n",
    "semester=[\"1\", \"7\"]\n",
    "x_axis=[]\n",
    "students=[];\n",
    "keep=dfC\n",
    "for i in range(2006,2019):\n",
    "    dfC=keep\n",
    "    string_i= str(i)\n",
    "    for j in semester:\n",
    "        course= string_i+j\n",
    "        course=int(course)\n",
    "        term=dfC[dfC.YearTerm==course]\n",
    "        if j==\"7\":\n",
    "            students.append(term['N_GRADE'].sum())\n",
    "            x_axis.append(\"Spring \"+string_i)\n",
    "        if j==\"1\":\n",
    "            students.append(term['N_GRADE'].sum())\n",
    "            x_axis.append(\"Fall \"+string_i)\n",
    "del students[-1]\n",
    "del x_axis[-1]\n",
    "del students[0]\n",
    "del x_axis[0]\n",
    "plt.plot(students)\n",
    "print(students)\n",
    "plt.xticks(range(len(x_axis)),x_axis, rotation='vertical');\n",
    "plt.xlabel(\"When courses were taken\")\n",
    "plt.ylabel(\"Number of students\")\n",
    "plt.title(\"Student growth in CSCI over time\");\n",
    "            \n",
    "        \n",
    "    "
   ]
  },
  {
   "cell_type": "markdown",
   "metadata": {},
   "source": [
    "From the graph we can see that the number of students has drastically increase in the span of 4 years with Spring of 2014 having roughly 1500 students while Fall of 2018 had about 4000 students. A year to year increase of about 625 students per year! "
   ]
  },
  {
   "cell_type": "markdown",
   "metadata": {},
   "source": [
    "**Part F:** What is one way we could determine whether or not the Computer Science total enrollment is going up more than we should expect?"
   ]
  },
  {
   "cell_type": "markdown",
   "metadata": {},
   "source": [
    "In order to figure out if the total amount of computer science enrollment has increase a line of best fit can be implemented. For example in spring of 2006 there were 779 students while in Fall of 2018 there were 3890 students.\n",
    "Now take a line of best fit $\\frac{3890-779}{12}\\approx 259$ where the 12 is the span of 12 years from 2006 to 2018. Which means that on average each year the amount of CSCI enrollment increases 259 students and definetly shows enrollment going up. "
   ]
  },
  {
   "cell_type": "markdown",
   "metadata": {},
   "source": [
    "**Part G:** Formulate another interesting question you could potentially answer using this data set. You do not need to actually answer it, but just frame the question clearly. What are some of the relevant column(s) in the data set?"
   ]
  },
  {
   "cell_type": "markdown",
   "metadata": {},
   "source": [
    "**Question:** What is the average workload i.e hour spent on an undergraduate CSCI course?\n",
    "\n",
    "\n",
    "In order to solve this problem, you would need to take dfC and take all the information from Workload_Hrs_Wk sum it together, then divide by the number of undergrade CSCI courses."
   ]
  },
  {
   "cell_type": "markdown",
   "metadata": {},
   "source": [
    "[Back to top](#top)"
   ]
  },
  {
   "cell_type": "code",
   "execution_count": null,
   "metadata": {
    "collapsed": true
   },
   "outputs": [],
   "source": []
  }
 ],
 "metadata": {
  "kernelspec": {
   "display_name": "Python 3",
   "language": "python",
   "name": "python3"
  },
  "language_info": {
   "codemirror_mode": {
    "name": "ipython",
    "version": 3
   },
   "file_extension": ".py",
   "mimetype": "text/x-python",
   "name": "python",
   "nbconvert_exporter": "python",
   "pygments_lexer": "ipython3",
   "version": "3.6.7"
  }
 },
 "nbformat": 4,
 "nbformat_minor": 2
}
