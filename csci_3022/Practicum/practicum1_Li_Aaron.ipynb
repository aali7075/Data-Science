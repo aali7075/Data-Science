{
 "cells": [
  {
   "cell_type": "markdown",
   "metadata": {},
   "source": [
    "<a id='top'></a>\n",
    "\n",
    "# CSCI 3022: Intro to Data Science - Spring 2019 Practicum 1\n",
    "***\n",
    "\n",
    "This practicum is due on Canvas by **11:59 PM on Monday March 4**. Your solutions to theoretical questions should be done in Markdown/MathJax directly below the associated question.  Your solutions to computational questions should include any specified Python code and results as well as written commentary on your conclusions.  \n",
    "\n",
    "**Here are the rules:** \n",
    "\n",
    "1. All work, code and analysis, must be your own. \n",
    "1. You may use your course notes, posted lecture slides, textbooks, in-class notebooks, and homework solutions as resources.  You may also search online for answers to general knowledge questions like the form of a probability distribution function or how to perform a particular operation in Python/Pandas. \n",
    "1. This is meant to be like a coding portion of your midterm exam. So, the instructional team will be much less helpful than we typically are with homework. For example, we will not check answers, help debug your code, and so on.\n",
    "1. If something is left open-ended, it is because we want to see how you approach the kinds of problems you will encounter in the wild, where it will not always be clear what sort of tests/methods should be applied. Feel free to ask clarifying questions though.\n",
    "2. You may **NOT** post to message boards or other online resources asking for help.\n",
    "3. You may **NOT** copy-paste solutions *from anywhere*.\n",
    "4. You may **NOT** collaborate with classmates or anyone else.\n",
    "5. In short, **your work must be your own**. It really is that simple.\n",
    "\n",
    "Violation of the above rules will result in an immediate academic sanction (*at the very least*, you will receive a 0 on this practicum or an F in the course, depending on severity), and a trip to the Honor Code Council.\n",
    "\n",
    "**By submitting this assignment, you agree to abide by the rules given above.**\n",
    "\n",
    "***\n",
    "\n",
    "**Name**:  Aaron Li\n",
    "\n",
    "***\n",
    "\n",
    "\n",
    "**NOTES**: \n",
    "\n",
    "- You may not use late days on the practicums nor can you drop your practicum grades. \n",
    "- If you have a question for us, post it as a **PRIVATE** message on Piazza.  If we decide that the question is appropriate for the entire class, then we will add it to a Practicum clarifications thread. \n",
    "- Do **NOT** load or use any Python packages that are not available in Anaconda 3.6. \n",
    "- Some problems with code may be autograded.  If we provide a function API **do not** change it.  If we do not provide a function API then you're free to structure your code however you like. \n",
    "- Submit only this Jupyter notebook to Canvas.  Do not compress it using tar, rar, zip, etc. \n",
    "- This should go without saying, but... For any question that asks you to calculate something, you **must show all work to receive credit**. Sparse or nonexistent work will receive sparse or nonexistent credit.\n",
    "\n",
    "---\n",
    "**Shortcuts:**  [Problem 1](#p1) | [Problem 2](#p2) | [Bottom](#bot)\n",
    "\n",
    "---"
   ]
  },
  {
   "cell_type": "code",
   "execution_count": 22,
   "metadata": {
    "collapsed": true,
    "jupyter": {
     "outputs_hidden": true
    }
   },
   "outputs": [],
   "source": [
    "from scipy import stats\n",
    "import numpy as np \n",
    "import pandas as pd\n",
    "import matplotlib.pyplot as plt\n",
    "%matplotlib inline"
   ]
  },
  {
   "cell_type": "markdown",
   "metadata": {},
   "source": [
    "<br>\n",
    "\n",
    "---\n",
    "[Back to top](#top)\n",
    "<a id='p1'></a>\n",
    "\n",
    "### [30 points] Problem 1: The Game of Strife"
   ]
  },
  {
   "cell_type": "markdown",
   "metadata": {},
   "source": [
    "Below, and at the [link here](http://www.cs.colorado.edu/~tonyewong/home/resources/game_of_strife.png), you will find the board for the ***Game of Strife***, a simplified and slightly more depressing version of the [Game of Life](https://en.wikipedia.org/wiki/The_Game_of_Life). Here are some rules:\n",
    "\n",
    "- Players begin at START and may choose to begin the game by either going to college (moving to the right from START) or starting a career (moving downward from START). Players then move along the game board in order of increasing tile number. \n",
    "    - If a player begins by going to college, then they start the game with -\\$20,000. That is indeed negative money, to account for student loan debt.\n",
    "    - If a player begins by starting a career, then they start the game with \\$5,000.\n",
    "\n",
    "<p> </p>\n",
    "\n",
    "- At the beginning of a player's turn, they roll a fair 6-sided die, the outcome of which determines how many tiles they move forward.\n",
    "\n",
    "<p> </p>\n",
    "\n",
    "- When a player reaches a red square (tiles 9, 17 or 30), they must stop at that square for the rest of their turn, even if they would not have landed on the red square.\n",
    "    - When a player stops on the CAREER tile after college (square 9), they are randomly assigned a career and salary from the possibilities: \\$50,000, \\$70,000, \\$90,000, \\$110,000, or \\$130,000 (all with equal probability). The player's actual career is irrelevant to the game, but please make something up so you are emotionally invested in the game.\n",
    "    - If a player starts a career at the beginning of the game, they are assigned a salary randomly from possibilities \\$40,000, \\$50,000, \\$60,000, \\$70,000, or \\$80,000.\n",
    "    - When a player stops on the HOUSE tile, they put a down payment on a house. This down payment is drawn randomly from the set \\$25,000, \\$40,000, \\$55,000 or \\$70,000.\n",
    "    - When a player stops on the RETIRE tile, the player collects a pension equal to half their salary and then the game ends immediately.\n",
    "\n",
    "<p> </p>\n",
    "\n",
    "- When a player lands on or passes a PAYDAY square, they earn money equal to their salary.\n",
    "\n",
    "<p> </p>\n",
    "\n",
    "- When a player lands on a STRIFE square (1, 4, 7, 13, 18, 23 or 29 if they go to college, or 2, 7, 13, 18, 23 or 29 if they start a career immediately at the beginning of the game), they draw a STRIFE card. The STRIFE cards have the player earn \\$5,000 or \\$10,000, or lose \\$1,000, \\$2,000 or \\$5,000.\n",
    "\n",
    "<p> </p>\n",
    "\n",
    "- Players can have negative money, which corresponds to being in debt.\n"
   ]
  },
  {
   "cell_type": "markdown",
   "metadata": {},
   "source": [
    "<img src=\"http://www.cs.colorado.edu/~tonyewong/home/resources/game_of_strife.png\" style=\"width: 700px;\"/>"
   ]
  },
  {
   "cell_type": "markdown",
   "metadata": {},
   "source": [
    "**Part A:** Write code to simulate an entire game of the Game of Strife (with only one player). You may **not** have two separate routines for simulating the game, or a turn, depending on whether a player goes to college or starts a career at the beginning; both possibilities should be accounted for within your one set of codes.\n",
    "\n",
    "Then run two ensembles of at least 10,000 games, one where the player starts by going to college, the other where the player starts a career immediately. Plot density histograms of the players' ending distributions of money on the same set of axes. Be sure to label your axes, include a legend and make your histogram box faces slightly transparent, so both sets of data are visible."
   ]
  },
  {
   "cell_type": "code",
   "execution_count": 23,
   "metadata": {
    "collapsed": true,
    "jupyter": {
     "outputs_hidden": true
    }
   },
   "outputs": [
    {
     "data": {
      "text/plain": [
       "Text(0,0.5,'Frequency')"
      ]
     },
     "execution_count": 23,
     "metadata": {},
     "output_type": "execute_result"
    },
    {
     "data": {
      "image/png": "[encoded data removed]",
      "text/plain": [
       "<Figure size 432x288 with 1 Axes>"
      ]
     },
     "metadata": {
      "needs_background": "light"
     },
     "output_type": "display_data"
    }
   ],
   "source": [
    "#Intialize the career salaries for both college for both college and noncollege\n",
    "no_college_salaries={\n",
    "    \"pizza driver\": 40000,\n",
    "    \"Level 1 crook\" : 50000,\n",
    "    \"Level 15 hitman\": 60000,\n",
    "    \"Level 30 boss\": 70000,\n",
    "    \"Level 100 SwagLord\": 80000\n",
    "}\n",
    "\n",
    "college_salaries={\n",
    "    \"Doctor\": 50000,\n",
    "    \"Software Engineer\" : 70000,\n",
    "    \"Teacher\": 90000,\n",
    "    \"Cashier\": 110000,\n",
    "    \"Mcdonalds Worker\": 130000\n",
    "}\n",
    "\n",
    "def merge(name,choice):\n",
    "    if choice==0:\n",
    "        job=np.random.choice(list(college_salaries.keys()))\n",
    "        income=college_salaries[job]\n",
    "    else:\n",
    "        job=np.random.choice(list(no_college_salaries.keys()))\n",
    "        income=no_college_salaries[job]\n",
    "    #Choose a random job based on path chosen\n",
    "    Player={\n",
    "        \"Name\": name,\n",
    "        \"Job\": job,\n",
    "       \"Income\": income,\n",
    "        \"Location\": 0,\n",
    "        \"Status\": choice,\n",
    "        \"Money\":0,\n",
    "        \"Stop\":0\n",
    "    }\n",
    "# Status determines college or career stops count how many stops someone has\n",
    "    return Player\n",
    "def strife():\n",
    "    options=[5000, 10000,-1000,-2000,-5000]\n",
    "    drawn=np.random.choice(options)\n",
    "    #print(\"You landed on a Strife Tile! You gain/loss\", drawn, \"dollars\")\n",
    "    return drawn\n",
    "def House():\n",
    "    options=[-25000, -40000,-55000,-70000]\n",
    "    drawn=np.random.choice(options)\n",
    "    #print(\"You landed on a House Tile! You loss\", drawn, \"dollars\")\n",
    "    return drawn\n",
    "\n",
    "def turn(Person):\n",
    "    roll=np.random.choice(np.arange(1,7))\n",
    "    Person[\"Location\"]+=roll\n",
    "    if Person[\"Status\"]==0 and Person[\"Location\"]<=9:\n",
    "        if  Person[\"Location\"]==1 or Person[\"Location\"]==4 or  Person[\"Location\"]==7:\n",
    "            Person[\"Money\"]+=strife()\n",
    "    elif Person[\"Status\"]==0 and Person[\"Location\"]>=9 and Person[\"Stop\"]==0:\n",
    "        Person[\"Stop\"]+=1\n",
    "        Person[\"Location\"]=9\n",
    "        #stay at 9 for career\n",
    "    elif Person[\"Status\"]==1 and Person[\"Location\"]<=9:\n",
    "        if  Person[\"Location\"]==2 or Person[\"Location\"]==7:\n",
    "            Person[\"Money\"]+=strife()\n",
    "        if Person[\"Location\"]>=4 and Person[\"Stop\"]==0:\n",
    "            Person[\"Stop\"]+=1\n",
    "            Person[\"Money\"]+=Person[\"Income\"]\n",
    "    else:\n",
    "        if  Person[\"Location\"]>=10 and Person[\"Stop\"]==1:\n",
    "            #print(\"You got paid!\")\n",
    "            Person[\"Stop\"]+=1\n",
    "            Person[\"Money\"]+=Person[\"Income\"]\n",
    "        if  Person[\"Location\"]>=16 and Person[\"Stop\"]==2:\n",
    "            #print(\"You got paid!\")\n",
    "            Person[\"Stop\"]+=1\n",
    "            Person[\"Money\"]+=Person[\"Income\"]\n",
    "        if  Person[\"Location\"]>=22 and Person[\"Stop\"]==4:\n",
    "            #print(\"You got paid!\")\n",
    "            Person[\"Stop\"]+=1\n",
    "            Person[\"Money\"]+=Person[\"Income\"]\n",
    "        if  Person[\"Location\"]>=27 and Person[\"Stop\"]==5:\n",
    "            #print(\"You got paid!\")\n",
    "            Person[\"Stop\"]+=1\n",
    "            Person[\"Money\"]+=Person[\"Income\"]\n",
    "        if  Person[\"Location\"]==10 or Person[\"Location\"]==16 or  Person[\"Location\"]==22 or Person[\"Location\"]==22:\n",
    "            Person[\"Money\"]+=strife()\n",
    "        if  Person[\"Location\"]>=17 and Person[\"Stop\"]==3:\n",
    "            Person[\"Stop\"]+=1\n",
    "            Person[\"Money\"]+=House()\n",
    "            Person[\"Location\"]=17\n",
    "    #build up all possible cases!\n",
    "    return Person\n",
    "def game_of_strife(number_of_players, paths):\n",
    "    names=[]\n",
    "    choice=[]\n",
    "    Players=[]\n",
    "    #Intialze potential names and choice of college or career first\n",
    "    for i in range(number_of_players):\n",
    "        #print(\"Hello, Player\",i+1,\"What is your name?\")\n",
    "        #Change to i+1 so that it says hello player 1 instead of hello player 0\n",
    "        names.append(\"Aaron\")\n",
    "        #print(\"Hi\",names[-1]+\"!\", \"Would you like to go to college or start your career?\")\n",
    "        x=paths\n",
    "        if x.lower()==\"college\":\n",
    "        #change to lower case to aviod bugs\n",
    "            #print( \"You chose college!\")\n",
    "            choice.append(0)\n",
    "            Players.append(merge(names[-1],choice[-1]))\n",
    "            Players[-1][\"Money\"]=-20000\n",
    "            break\n",
    "        else:\n",
    "            #print( \"You chose career!\")\n",
    "            choice.append(1)\n",
    "            Players.append(merge(names[-1],choice[-1]))\n",
    "            break\n",
    "    #print(\"Congrats! You are a\", Players[-1].get(\"Job\"), \"and you make\", Players[-1].get(\"Income\"))\n",
    "\n",
    "    while Players[-1][\"Location\"]<30:\n",
    "        Players[-1]=turn(Players[-1])\n",
    "        #print(\"After turn\",Players[-1][\"Name\"], \"has\",Players[-1][\"Money\"], \"and is at\", Players[-1][\"Location\"])\n",
    "    Players[-1][\"Money\"]+=Players[-1][\"Income\"]/2\n",
    "    return Players[-1][\"Money\"]\n",
    "\n",
    "#Now simulate 10,000 games\n",
    "money_college=[]\n",
    "money_career=[]\n",
    "for i in range(10000):\n",
    "    money_college.append(game_of_strife(1, \"college\"))\n",
    "    money_career.append(game_of_strife(1, \"career\"))\n",
    "    \n",
    "fig, ax = plt.subplots(1,1)\n",
    "ax.hist(money_college, color=\"seagreen\", alpha=.4, density=True)\n",
    "ax.hist(money_career, color=\"coral\", alpha=.4, density=True)\n",
    "ax.legend([\"College\", \"Career\"])\n",
    "ax.set_title(\"Money collected in after 10,000 games for College and Career\")\n",
    "ax.set_xlabel(\"Money in dollars\")\n",
    "ax.set_ylabel(\"Frequency\")"
   ]
  },
  {
   "cell_type": "markdown",
   "metadata": {},
   "source": [
    "**Part B:** Use concepts from class to describe the two distributions of player cash at retirement, depending on whether or not they went to college or immediately started a career. How are the two distributions similar? How do they differ? Address characteristics like skew, modality, central tendency and spread. How could the rules of the Game of Strife account for these differences?"
   ]
  },
  {
   "cell_type": "markdown",
   "metadata": {},
   "source": [
    "**Part B Answer:**\n",
    "\n",
    "The two distributions are not very similar. The career graph is unimodal and has an almost unifrom distribution where as the college graph is multimodal.The career graph being unimodal is due to the fact the each career job is only 10,000 dollars different causing a less drastic change and because of smaller difference in income, there are more incomes that lean towards 20,000 and 40,000 dollars (i.e central tendency).\n",
    "\n",
    "College on the other hand had a much more drastic difference in income between jobs with 20,000 dollars causing multiple means to appears and showing distinct differences jobs. For the graph in colleges you can clearly see 5 peaks which correspond to the 5 different jobs and their means.\n",
    "\n",
    "The way the two graphs are similar is besides the 5 peaks in the college graph both graphs seems to have some resemblence to a uniform distribution. "
   ]
  },
  {
   "cell_type": "markdown",
   "metadata": {},
   "source": [
    "**Part C:**  Use your results from Part A to estimate the probability that a person would retire with at least \\$300,000, if they went to college."
   ]
  },
  {
   "cell_type": "code",
   "execution_count": 24,
   "metadata": {
    "collapsed": true,
    "jupyter": {
     "outputs_hidden": true
    }
   },
   "outputs": [
    {
     "name": "stdout",
     "output_type": "stream",
     "text": [
      "There is a 59.99 % chance that you have 300,000 dollars after going to college\n"
     ]
    }
   ],
   "source": [
    "percent_300=[i for i in money_college if i >= 300000]\n",
    "percent_300=(len(percent_300)/10000)*100\n",
    "print(\"There is a\", percent_300, \"% chance that you have 300,000 dollars after going to college\")"
   ]
  },
  {
   "cell_type": "markdown",
   "metadata": {},
   "source": [
    "**Part D:** The United States [Bureau of Labor Statistics](https://www.bls.gov/news.release/hsgec.nr0.htm) has found that approximately 66.7% of students go to college. Suppose players of the Game of Strife choose to go to college at the beginning of the game with this probability of $P(\\text{college}) = 0.667$.\n",
    "\n",
    "Use your two ensembles of games from Part A to estimate the probability that an individual, whose college education status is unknown, will retire in the Game of Strife with at least \\$300,000. State any relevant probability laws, theorems or rules that you use, and show all calculations."
   ]
  },
  {
   "cell_type": "markdown",
   "metadata": {},
   "source": [
    "**Part D Answer:** We shall use LTP. $$P(\\$300,000|Path_{unknown})=P(\\$300,000|college)P(college)+P(\\$300,000|career)P(career)$$\n",
    "$P(\\$300,000|college)=.5969$, $P(\\$300,000|career)=.4031$, $P(college)=.677$, $P(career)=.333$\n",
    "\n",
    "so, $P(\\$300,000|Path_{unknown})=0.5323646$ or $\\approx$ 53.24\\%"
   ]
  },
  {
   "cell_type": "markdown",
   "metadata": {},
   "source": [
    "**Part E:** Let's see how important the Strife tiles are in affecting a player's final money. What is the probability that a player ends the game with at least \\$300,000 in cash if they landed on at least one Strife square? You may want to modify your previous codes to run additional simulations for this part. Use the same method as Part D to address the proportion of players who begin by going to college versus starting a career."
   ]
  },
  {
   "cell_type": "code",
   "execution_count": 25,
   "metadata": {
    "collapsed": true,
    "jupyter": {
     "outputs_hidden": true
    }
   },
   "outputs": [
    {
     "name": "stdout",
     "output_type": "stream",
     "text": [
      "There is a 59.870000000000005 % chance that you have 300,000 dollars after going to college with one guarenteed strife\n"
     ]
    }
   ],
   "source": [
    "one_strife=[]\n",
    "for i in range(10000):\n",
    "    one_strife.append(strife())\n",
    "money_college_with_strife=np.subtract(money_college,one_strife)\n",
    "money_career_with_strife=np.subtract(money_career,one_strife)\n",
    "percent_300strife=[i for i in money_college_with_strife if i >= 300000]\n",
    "percent_300strife=(len(percent_300strife)/10000)*100\n",
    "print(\"There is a\", percent_300strife, \"% chance that you have 300,000 dollars after going to college\\\n",
    " with one guarenteed strife\")"
   ]
  },
  {
   "cell_type": "markdown",
   "metadata": {},
   "source": [
    "Since the probility of getting 300,000 dollars given at least one strife or no guraneteed strife did not change the \n",
    "proability very much of having 300,000 dollars we can use Part D to get the same answer of $\\approx$ 53.24%"
   ]
  },
  {
   "cell_type": "markdown",
   "metadata": {},
   "source": [
    "<br>\n",
    "\n",
    "---\n",
    "[Back to top](#top)\n",
    "<a id='p2'></a>\n",
    "\n",
    "### [30 points] Problem 2: Sonic or Tails?"
   ]
  },
  {
   "cell_type": "markdown",
   "metadata": {},
   "source": [
    "<img src=\"http://www.cs.colorado.edu/~tonyewong/home/resources/hedgehog_coin.jpg\" style=\"width: 500px;\"/>"
   ]
  },
  {
   "cell_type": "markdown",
   "metadata": {},
   "source": [
    "In the file `flipadelphia.csv` you will find the results of an experiment that was conducted by Amy, the famous hedgehog data scientist, as she was flipping a coin one sunny day in a meadow. This is no ordinary coin, however: this coin has on one side Sonic, and on the other side Tails! The two sides of this coin are above, and at [this link](http://www.cs.colorado.edu/~tonyewong/home/resources/hedgehog_coin.jpg).\n",
    "\n",
    "In Amy's experiment she repeatedly flipped the coin until it came up Sonic. After each trial, she recorded her observed value for $X=$ the number of flips required to see the first Sonic. The results are stored in `flipadelphia.csv`.\n",
    "\n",
    "Amy has a lot of coins for performing cool data science experiments, and these coins have different biases (not all unique). Amy is a forgetful hedgehog, so she isn't sure which coin she was flipping. Her coins have biases of $p_S=.2, .3, .4, .5, .6, .7$ and $.8$, where $p_S$ is the probability of any given flip coming up Sonic."
   ]
  },
  {
   "cell_type": "markdown",
   "metadata": {},
   "source": [
    "**Part A:** Read in the data set and make a frequency histogram of the data. Be sure to label your axes appropriately, and center your bins above the integer numbers of flips (0, 1, 2, etc...). What is the name of the distribution for the random variable that Amy observed and recorded in her data table?"
   ]
  },
  {
   "cell_type": "code",
   "execution_count": 26,
   "metadata": {
    "collapsed": true,
    "jupyter": {
     "outputs_hidden": true
    }
   },
   "outputs": [
    {
     "data": {
      "image/png": "[encoded data removed]",
      "text/plain": [
       "<Figure size 432x288 with 1 Axes>"
      ]
     },
     "metadata": {
      "needs_background": "light"
     },
     "output_type": "display_data"
    }
   ],
   "source": [
    "df = pd.read_csv(\"flipadelphia.csv\",header=None)\n",
    "coin_flips=[]\n",
    "flips=df[0]\n",
    "amount_of_flips=len(flips)\n",
    "for i in range(amount_of_flips):\n",
    "    coin_flips.append(flips[i])\n",
    "my_bins=[1,2,3,4,5,6]\n",
    "fig, ax = plt.subplots(1,1);\n",
    "ax.hist(coin_flips, color=\"blue\", alpha=.8, density=True,bins=my_bins);\n",
    "ax.set_title(\"Number of flips taken to get Sonic\");\n",
    "ax.set_xlabel(\"Number of Flips\");\n",
    "ax.set_ylabel(\"Frequency\");"
   ]
  },
  {
   "cell_type": "markdown",
   "metadata": {},
   "source": [
    "**Part B:** Use the distribution that you identified in Part A to determine $P(X=n \\mid p_S=0.5)$, the probability that Amy would observe the first Sonic flip on the $n$-th flip, assuming that the coin is fair ($p_S=0.5$), for each of the $n$ from her 10 trials in her data set. Then, combine these to find the overall *likelihood* that she would observe her entire data set, assuming that the coin was fair. That is, estimate $P(\\text{data} \\mid p_S=0.5)$. Be sure to note any assumptions you make about how the outcome of one trial relates to the outcomes of the others.\n",
    "\n",
    "If it helps to have some mathematical notation, consider that Amy's data set consists of the results of all 10 of her trials: $$\\text{data} = (X_1 = n_1) \\cap (X_2 = n_2) \\cap \\ldots (X_{10} = n_{10})$$"
   ]
  },
  {
   "cell_type": "code",
   "execution_count": 27,
   "metadata": {
    "collapsed": true,
    "jupyter": {
     "outputs_hidden": true
    }
   },
   "outputs": [
    {
     "name": "stdout",
     "output_type": "stream",
     "text": [
      "When the probability is .5 there is a 43.2586669922%  chance it is a fair coin\n"
     ]
    }
   ],
   "source": [
    "def geometric(flips,prob):\n",
    "    chance=[]\n",
    "    for i in(coin_flips):\n",
    "        chance.append((prob)*((1-prob)**(i-1)))\n",
    "    total_chance=np.math.factorial(10)*np.prod(np.array(chance))\n",
    "    #since the flips can be in any order we use factorial to have total chance\n",
    "    return total_chance\n",
    "print(\"When the probability is .5 there is a\", str(100*geometric(coin_flips,.5))+\"%\", \" chance it is a fair coin\")"
   ]
  },
  {
   "cell_type": "markdown",
   "metadata": {},
   "source": [
    "**Part C:** Suppose before we observed Amy's data set, we believe that each of the seven possible coin biases occur with equal probability, $P(p_S)$. This is called the _prior distribution_ for the coin bias, $p_S$, because we have not yet taken into account Amy's data set.\n",
    "* Now, estimate the probability of each possible bias, given the data: $P(p_S \\mid \\text{data})$.  This is called the _posterior distribution_ for the coin bias, because it is our assessment of the coin's bias _after_ we have accounted for Amy's data.\n",
    "* Make a line plot of the bias along x-axis versus the posterior probability of that bias along the y-axis, and be sure to label your axes. \n",
    "* Comment on your plot. What appears to be the most probable value for the bias, $p_S$? This is called the _maximum a posteriori_ estimate, because it maximizes the posterior distribution and sounds very, *very* fancy."
   ]
  },
  {
   "cell_type": "code",
   "execution_count": 28,
   "metadata": {
    "collapsed": true,
    "jupyter": {
     "outputs_hidden": true
    }
   },
   "outputs": [
    {
     "name": "stdout",
     "output_type": "stream",
     "text": [
      "0.4 0.49696888791\n"
     ]
    },
    {
     "data": {
      "image/png": "[encoded data removed]",
      "text/plain": [
       "<Figure size 432x288 with 1 Axes>"
      ]
     },
     "metadata": {
      "needs_background": "light"
     },
     "output_type": "display_data"
    }
   ],
   "source": [
    "p_s=[.2,.3,.4,.5,.6,.7,.8]\n",
    "all_probs=[]\n",
    "for i in(p_s):\n",
    "    all_probs.append(geometric(coin_flips,i))\n",
    "max_coin_prob = max(all_probs)\n",
    "coin_val = all_probs.index(max_coin_prob)\n",
    "coin_val=p_s[coin_val]\n",
    "plt.plot(p_s,all_probs)\n",
    "plt.xlabel(\"Sonic Landing Bias\")\n",
    "plt.ylabel(\"Probability after 10 test\")\n",
    "plt.title(\"Probability of Biased Sonic Coin vs Test Data\");\n",
    "print(coin_val, max_coin_prob)"
   ]
  },
  {
   "cell_type": "markdown",
   "metadata": {},
   "source": [
    "The _maximum a posteriori_ is Sonic with a .4 to land with a proability of approximately 50%."
   ]
  },
  {
   "cell_type": "markdown",
   "metadata": {},
   "source": [
    "**Part D:** Now suppose the prior probability distribution of the coins is not uniform. Namely, suppose these probabilities follow a ***triangular distribution***, centered at $p_S=0.5$:\n",
    "$$P(p_S = p) = \\begin{cases} mp & p \\leq 0.5 \\\\ m(1-p) & p > 0.5 \\end{cases}$$\n",
    "\n",
    "Determine what value the constant $m$ should have in order to make $P(p_S = p)$ is a valid probability mass function. Remember, $p_S \\in \\{.2, .3, \\ldots , .7, .8\\}$ and is discrete."
   ]
  },
  {
   "cell_type": "markdown",
   "metadata": {},
   "source": [
    "In order to be a valid pmf the sum of all pdf's must equal 1. So, $$1=m(.2)+m(.3)+m(.4)+m(.5)+m(1-.6)+m(1-.7)+m(1-.8)=2.3m->m=\\frac{1}{2.3} $$"
   ]
  },
  {
   "cell_type": "markdown",
   "metadata": {},
   "source": [
    "**Part E:** Compare, using words, the triangular prior distribution (this part) and the uniform prior distribution (from Part C).  What does each represent in terms of our _prior_ knowledge of the coin bias?"
   ]
  },
  {
   "cell_type": "markdown",
   "metadata": {},
   "source": [
    "The difference between the triangular prior distribution and the uniform prior distribution is that in a uniform distribution all biased coins had the same possibility of landing while the triangular distribution doesn't. In this case, the triangular distibution has the highest probability of choosing .5 being $\\frac{.5}{2.3}$ and then the probability goes down by $\\frac{.1}{2.3}$ as you go up or down in bias for the sonic coin. \n",
    "\n",
    "For example, The uniform prior distribution could have meant that Amy has one of each different possible biased sonic coins while the triangular prior distribution means should could have had 5 $.5$ sonic coins, 4 $.4$ and $.6$ sonic coins, 3 $.3$ and $.7$ sonic coins, and 2 $.2$ and $.8$ sonics coins. "
   ]
  },
  {
   "cell_type": "markdown",
   "metadata": {},
   "source": [
    "**Part F:** Modify your calculation of the posterior distribution from Part C to use the new triangular prior distribution from Part D. Make a plot of the results that includes both posterior distribution using the uniform prior (from Part C) and the posterior distribution using the triangular prior (from Part D) in the same figure panel. Be sure to label your axes and include a legend."
   ]
  },
  {
   "cell_type": "code",
   "execution_count": 29,
   "metadata": {
    "collapsed": true,
    "jupyter": {
     "outputs_hidden": true
    }
   },
   "outputs": [
    {
     "name": "stdout",
     "output_type": "stream",
     "text": [
      "[ 0.08695652  0.13043478  0.17391304  0.2173913   0.17391304  0.13043478\n",
      "  0.08695652]\n",
      "0.5 0.0940405804178\n"
     ]
    },
    {
     "data": {
      "image/png": "[encoded data removed]",
      "text/plain": [
       "<Figure size 432x288 with 1 Axes>"
      ]
     },
     "metadata": {
      "needs_background": "light"
     },
     "output_type": "display_data"
    }
   ],
   "source": [
    "tri=[.2,.3,.4,.5,.4,.3,.2]\n",
    "triangular=np.multiply(tri,(1/2.3))\n",
    "print(triangular)\n",
    "all_probs_uni=np.multiply(all_probs,1/7)\n",
    "all_probs_tri=np.multiply(all_probs,triangular)\n",
    "plt.plot(p_s,all_probs_uni)\n",
    "plt.plot(p_s,all_probs_tri)\n",
    "plt.xlabel(\"Sonic Landing Bias\")\n",
    "plt.ylabel(\"Probability after test data and choosing coin\")\n",
    "plt.title(\"Probability of Biased Sonic Coin vs Test Data and Probability of Choosing Coin\");\n",
    "plt.legend([\"Uniformed Prior Distribution\",\"Triangular Prior Distribution\"],loc=\"lower center\");\n",
    "max_coin_prob_tri = max(all_probs_tri)\n",
    "coin_val_tri = np.where(all_probs_tri==max_coin_prob_tri)\n",
    "coin_val_tri=p_s[coin_val_tri[0][0]]\n",
    "print(coin_val_tri, max_coin_prob_tri,)"
   ]
  },
  {
   "cell_type": "markdown",
   "metadata": {},
   "source": [
    "**Part G:** Comment on the effect of your choice of different prior distribution on your posterior inference for the most probable coin bias."
   ]
  },
  {
   "cell_type": "markdown",
   "metadata": {},
   "source": [
    "After changing to a triangular distribution, the posterior inference for the most probable coin became .5 because it has the largest peak/ greatest frequency. This is due to the fact the fair sonic coin had the highest probability of being chosen out of all of the biased coins giving it a bigger boost in chance."
   ]
  },
  {
   "cell_type": "markdown",
   "metadata": {},
   "source": [
    "<br>\n",
    "\n",
    "---\n",
    "[Back to top](#top)\n",
    "<a id='bot'></a>"
   ]
  }
 ],
 "metadata": {
  "kernelspec": {
   "display_name": "Python 3",
   "language": "python",
   "name": "python3"
  },
  "language_info": {
   "codemirror_mode": {
    "name": "ipython",
    "version": 3
   },
   "file_extension": ".py",
   "mimetype": "text/x-python",
   "name": "python",
   "nbconvert_exporter": "python",
   "pygments_lexer": "ipython3",
   "version": "3.7.3"
  }
 },
 "nbformat": 4,
 "nbformat_minor": 4
}
